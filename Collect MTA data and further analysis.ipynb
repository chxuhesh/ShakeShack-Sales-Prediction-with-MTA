{
 "cells": [
  {
   "cell_type": "markdown",
   "id": "61185273",
   "metadata": {},
   "source": [
    "# Collect MTA Data"
   ]
  },
  {
   "cell_type": "markdown",
   "id": "63b7cb16",
   "metadata": {},
   "source": [
    "## Crawl Gate Data from MTA\n",
    "\n",
    "http://web.mta.info/developers/turnstile.html"
   ]
  },
  {
   "cell_type": "code",
   "execution_count": 2,
   "id": "37554df7",
   "metadata": {},
   "outputs": [],
   "source": [
    "def get_record(url,single_record):\n",
    "    datalist=[]\n",
    "\n",
    "    head = {   \"User-Agent\": \"Mozilla / 5.0(Windows NT 10.0; Win64; x64) AppleWebKit / 537.36(KHTML, like Gecko) Chrome / 80.0.3987.122  Safari / 537.36\"\n",
    "        }\n",
    "    request = urllib.request.Request(url, headers=head)\n",
    "    response = urllib.request.urlopen(request)\n",
    "    content  = response.read().decode(\"utf-8\")\n",
    "    page = BeautifulSoup(content,\"lxml\")\n",
    "    cont = str(page.find_all(\"p\")[0])\n",
    "    searchrecord = re.findall(single_record,cont)\n",
    "\n",
    "    for search in searchrecord:\n",
    "        data =[]\n",
    "        record = search[1:-1].split(',')\n",
    "        for i in range(0,11):\n",
    "            data.append(record[i])\n",
    "        datalist.append(data)\n",
    "    return datalist\n"
   ]
  },
  {
   "cell_type": "code",
   "execution_count": 4,
   "id": "469a6a07",
   "metadata": {},
   "outputs": [],
   "source": [
    "import urllib.request, urllib.error  \n",
    "import re\n",
    "from bs4 import BeautifulSoup\n",
    "from selenium import webdriver\n",
    "import pandas as pd\n",
    "\n",
    "head = {   \"User-Agent\": \"Mozilla / 5.0(Windows NT 10.0; Win64; x64) AppleWebKit / 537.36(KHTML, like Gecko) Chrome / 80.0.3987.122  Safari / 537.36\"\n",
    "    }\n",
    "head_path = \"http://web.mta.info/developers/turnstile.html\"\n",
    "head_request = urllib.request.Request(head_path, headers=head)\n",
    "head_response = urllib.request.urlopen(head_request)\n",
    "head_content  = head_response.read().decode(\"utf-8\")\n",
    "\n",
    "single_sample = re.compile(r\"\\n[A-Za-z0-9]+,[A-Za-z0-9]+,[0-9]{2}-[0-9]{2}-[0-9]{2},[^,]*,[^,]*,[^,]*,[^,]*,[^,]*,[^,]*,[0-9]*,[0-9]*\")\n",
    "total_record =[]\n",
    "html_parsed = BeautifulSoup(head_content,\"lxml\")\n",
    "html_content = html_parsed.find_all('div', {'class': 'span-84 last'})\n",
    "\n",
    "starturl = \"http://web.mta.info/developers/\"\n",
    "\n",
    "for child in html_content[0].select(\"a\"):\n",
    "    year = child.text.split(\",\")[-1].strip()\n",
    "    url = starturl+child[\"href\"]\n",
    "    \n",
    "    if year ==\"2014\":\n",
    "        break\n",
    "        \n",
    "    total_record =[]\n",
    "    current_record= get_record(url,single_sample)\n",
    "    total_record.extend(current_record)\n",
    "\n",
    "    df = pd.DataFrame(total_record, columns=[\"C/A\",\"UNIT\",\"SCP\",\"STATION\",\"LINENAME\",\"DIVISION\",\"DATE\",\"TIME\",\"DESC\",\"ENTRIES\",\"EXITS\"])\n",
    "    df.to_csv('MTA_Record_{}.csv'.format(year), index=False,header=False,mode='a')\n",
    "      \n",
    "\n"
   ]
  },
  {
   "cell_type": "code",
   "execution_count": 7,
   "id": "45d8f529",
   "metadata": {},
   "outputs": [],
   "source": [
    "import urllib.request, urllib.error  \n",
    "import re\n",
    "from bs4 import BeautifulSoup\n",
    "import pandas as pd\n",
    "\n",
    "lastweek_2014_url =\"http://web.mta.info/developers/data/nyct/turnstile/turnstile_141227.txt\"\n",
    "single_sample = re.compile(r\"\\n[A-Za-z0-9]+,[A-Za-z0-9]+,[0-9]{2}-[0-9]{2}-[0-9]{2},[^,]*,[^,]*,[^,]*,[^,]*,[^,]*,[^,]*,[0-9]*,[0-9]*\")\n",
    "lastweek_2014_record =get_record(lastweek_2014_url,single_sample)\n",
    "\n",
    "total_record = []\n",
    "total_record.extend(lastweek_2014_record)\n",
    "df_lastweek_2014 = pd.DataFrame(total_record, columns=[\"C/A\",\"UNIT\",\"SCP\",\"STATION\",\"LINENAME\",\"DIVISION\",\"DATE\",\"TIME\",\"DESC\",\"ENTRIES\",\"EXITS\"])\n"
   ]
  },
  {
   "cell_type": "markdown",
   "id": "ba42c1eb",
   "metadata": {},
   "source": [
    "## Read and Concatenate Data\n"
   ]
  },
  {
   "cell_type": "code",
   "execution_count": 102,
   "id": "838bdb5f",
   "metadata": {},
   "outputs": [],
   "source": [
    "#2015-2020 data processing\n",
    "import pandas as pd\n",
    "for year_num in range(2015,2021):\n",
    "    MTA = pd.read_csv(\"MTA_Record_{}.csv\".format(year_num),names=[\"C/A\",\"UNIT\",\"SCP\",\"STATION\",\"LINENAME\",\"DIVISION\",\"DATE\",\"TIME\",\"DESC\",\"ENTRIES\",\"EXITS\"])\n",
    "    MTA_next = pd.read_csv(\"MTA_Record_{}.csv\".format(year_num+1),names=[\"C/A\",\"UNIT\",\"SCP\",\"STATION\",\"LINENAME\",\"DIVISION\",\"DATE\",\"TIME\",\"DESC\",\"ENTRIES\",\"EXITS\"])\n",
    "    MTA[\"DATETIME\"] = pd.to_datetime(MTA[\"DATE\"].str.cat(MTA[\"TIME\"],sep=\" \"),format =\"%m/%d/%Y %H:%M:%S\")\n",
    "    MTA_next[\"DATETIME\"] = pd.to_datetime(MTA_next[\"DATE\"].s\n",
    "                                          、tr.cat(MTA_next[\"TIME\"],sep=\" \"),format =\"%m/%d/%Y %H:%M:%S\")  \n",
    "\n",
    "    MTA_on = pd.concat([MTA[MTA[\"DATETIME\"]>=\"01/01/{} 00:00:00\".format(year_num)],MTA_next[MTA_next[\"DATETIME\"]<\"01/02/{} 00:00:00\".format(year_num+1)]]).sort_values(\"DATETIME\")\n",
    "    MTA_on.drop([\"DATE\",\"TIME\"],axis=1,inplace=True)\n",
    "    MTA_on.to_csv(\"MTA_on{}.csv\".format(year_num),index=False,header=True)\n",
    "del MTA,MTA_next,MTA_on"
   ]
  },
  {
   "cell_type": "code",
   "execution_count": 1,
   "id": "dccbc723",
   "metadata": {
    "collapsed": true
   },
   "outputs": [
    {
     "ename": "NameError",
     "evalue": "name 'pd' is not defined",
     "output_type": "error",
     "traceback": [
      "\u001b[1;31m---------------------------------------------------------------------------\u001b[0m",
      "\u001b[1;31mNameError\u001b[0m                                 Traceback (most recent call last)",
      "\u001b[1;32m<ipython-input-1-b92c16d5ed1e>\u001b[0m in \u001b[0;36m<module>\u001b[1;34m\u001b[0m\n\u001b[0;32m      1\u001b[0m \u001b[1;31m#2021 data processing\u001b[0m\u001b[1;33m\u001b[0m\u001b[1;33m\u001b[0m\u001b[1;33m\u001b[0m\u001b[0m\n\u001b[1;32m----> 2\u001b[1;33m \u001b[0mMTA_2021\u001b[0m \u001b[1;33m=\u001b[0m \u001b[0mpd\u001b[0m\u001b[1;33m.\u001b[0m\u001b[0mread_csv\u001b[0m\u001b[1;33m(\u001b[0m\u001b[1;34m\"MTA_Record_2021.csv\"\u001b[0m\u001b[1;33m,\u001b[0m\u001b[0mnames\u001b[0m\u001b[1;33m=\u001b[0m\u001b[1;33m[\u001b[0m\u001b[1;34m\"C/A\"\u001b[0m\u001b[1;33m,\u001b[0m\u001b[1;34m\"UNIT\"\u001b[0m\u001b[1;33m,\u001b[0m\u001b[1;34m\"SCP\"\u001b[0m\u001b[1;33m,\u001b[0m\u001b[1;34m\"STATION\"\u001b[0m\u001b[1;33m,\u001b[0m\u001b[1;34m\"LINENAME\"\u001b[0m\u001b[1;33m,\u001b[0m\u001b[1;34m\"DIVISION\"\u001b[0m\u001b[1;33m,\u001b[0m\u001b[1;34m\"DATE\"\u001b[0m\u001b[1;33m,\u001b[0m\u001b[1;34m\"TIME\"\u001b[0m\u001b[1;33m,\u001b[0m\u001b[1;34m\"DESC\"\u001b[0m\u001b[1;33m,\u001b[0m\u001b[1;34m\"ENTRIES\"\u001b[0m\u001b[1;33m,\u001b[0m\u001b[1;34m\"EXITS\"\u001b[0m\u001b[1;33m]\u001b[0m\u001b[1;33m)\u001b[0m\u001b[1;33m\u001b[0m\u001b[1;33m\u001b[0m\u001b[0m\n\u001b[0m\u001b[0;32m      3\u001b[0m \u001b[0mMTA_2021\u001b[0m\u001b[1;33m[\u001b[0m\u001b[1;34m\"DATETIME\"\u001b[0m\u001b[1;33m]\u001b[0m \u001b[1;33m=\u001b[0m \u001b[0mpd\u001b[0m\u001b[1;33m.\u001b[0m\u001b[0mto_datetime\u001b[0m\u001b[1;33m(\u001b[0m\u001b[0mMTA_2021\u001b[0m\u001b[1;33m[\u001b[0m\u001b[1;34m\"DATE\"\u001b[0m\u001b[1;33m]\u001b[0m\u001b[1;33m.\u001b[0m\u001b[0mstr\u001b[0m\u001b[1;33m.\u001b[0m\u001b[0mcat\u001b[0m\u001b[1;33m(\u001b[0m\u001b[0mMTA_2021\u001b[0m\u001b[1;33m[\u001b[0m\u001b[1;34m\"TIME\"\u001b[0m\u001b[1;33m]\u001b[0m\u001b[1;33m,\u001b[0m\u001b[0msep\u001b[0m\u001b[1;33m=\u001b[0m\u001b[1;34m\" \"\u001b[0m\u001b[1;33m)\u001b[0m\u001b[1;33m,\u001b[0m\u001b[0mformat\u001b[0m \u001b[1;33m=\u001b[0m\u001b[1;34m\"%m/%d/%Y %H:%M:%S\"\u001b[0m\u001b[1;33m)\u001b[0m\u001b[1;33m\u001b[0m\u001b[1;33m\u001b[0m\u001b[0m\n\u001b[0;32m      4\u001b[0m \u001b[0mMTA_on2021\u001b[0m \u001b[1;33m=\u001b[0m \u001b[0mMTA_2021\u001b[0m\u001b[1;33m[\u001b[0m\u001b[0mMTA_2021\u001b[0m\u001b[1;33m[\u001b[0m\u001b[1;34m\"DATETIME\"\u001b[0m\u001b[1;33m]\u001b[0m\u001b[1;33m>=\u001b[0m\u001b[1;34m\"01/01/2021 00:00:00\"\u001b[0m\u001b[1;33m]\u001b[0m\u001b[1;33m.\u001b[0m\u001b[0msort_values\u001b[0m\u001b[1;33m(\u001b[0m\u001b[1;34m\"DATETIME\"\u001b[0m\u001b[1;33m)\u001b[0m\u001b[1;33m\u001b[0m\u001b[1;33m\u001b[0m\u001b[0m\n\u001b[0;32m      5\u001b[0m \u001b[0mMTA_on2021\u001b[0m\u001b[1;33m.\u001b[0m\u001b[0mdrop\u001b[0m\u001b[1;33m(\u001b[0m\u001b[1;33m[\u001b[0m\u001b[1;34m\"DATE\"\u001b[0m\u001b[1;33m,\u001b[0m\u001b[1;34m\"TIME\"\u001b[0m\u001b[1;33m]\u001b[0m\u001b[1;33m,\u001b[0m\u001b[0maxis\u001b[0m\u001b[1;33m=\u001b[0m\u001b[1;36m1\u001b[0m\u001b[1;33m,\u001b[0m\u001b[0minplace\u001b[0m\u001b[1;33m=\u001b[0m\u001b[1;32mTrue\u001b[0m\u001b[1;33m)\u001b[0m\u001b[1;33m\u001b[0m\u001b[1;33m\u001b[0m\u001b[0m\n",
      "\u001b[1;31mNameError\u001b[0m: name 'pd' is not defined"
     ]
    }
   ],
   "source": [
    "#2021 data processing\n",
    "MTA_2021 = pd.read_csv(\"MTA_Record_2021.csv\",names=[\"C/A\",\"UNIT\",\"SCP\",\"STATION\",\"LINENAME\",\"DIVISION\",\"DATE\",\"TIME\",\"DESC\",\"ENTRIES\",\"EXITS\"])\n",
    "MTA_2021[\"DATETIME\"] = pd.to_datetime(MTA_2021[\"DATE\"].str.cat(MTA_2021[\"TIME\"],sep=\" \"),format =\"%m/%d/%Y %H:%M:%S\")\n",
    "MTA_on2021 = MTA_2021[MTA_2021[\"DATETIME\"]>=\"01/01/2021 00:00:00\"].sort_values(\"DATETIME\")\n",
    "MTA_on2021.drop([\"DATE\",\"TIME\"],axis=1,inplace=True)\n",
    "MTA_on2021.to_csv(\"MTA_on2021.csv\",index=False,header=True)\n",
    "del MTA_2021,MTA_on2021"
   ]
  },
  {
   "cell_type": "markdown",
   "id": "e465cec1",
   "metadata": {},
   "source": [
    "## Preprocessing traffic data before analysis\n",
    "Generally, traffic can be calculated in every gate through subtraction of traffic in each timepoint in each gate every 4 hour. But there are many tricky problems in original data.\n",
    "\n",
    "removing some outlier data such as anamoly huge traffic data (eg.It is impossible that 20 million traffic through one gate in 4 hours)\n",
    "There are some missing value in some timepoints.\n",
    "\n",
   ]
  },
  {
   "cell_type": "code",
   "execution_count": 20,
   "id": "6f5355ac",
   "metadata": {},
   "outputs": [],
   "source": [
    "#observe 2015 data\n",
    "import pandas as pd\n",
    "MTA_on2015 = pd.read_csv(\"MTA_on2015.csv\")\n",
    "MTA_on2015[\"DATETIME\"]=pd.to_datetime(MTA_on2015[\"DATETIME\"])\n",
    "\n",
    "def year_quarter(row):\n",
    "    return \"{}Q{}\".format(row[\"DATETIME\"].year,row[\"DATETIME\"].quarter)\n",
    "\n",
    "MTA_on2015[\"QUARTER\"]=MTA_on2015.apply(year_quarter,axis=1)\n",
    "\n",
    "MTA_on2015.drop([\"STATION\",\"LINENAME\",\"DIVISION\",\"DESC\"],axis=1,inplace=True)\n",
    "\n",
    "MTA_on2015.tail()\n",
    "\n",
    "MTA_on2015 = MTA_on2015.sort_values([\"C/A\",\"UNIT\",\"SCP\",\"DATETIME\"])\n",
    "MTA_on2015.head()\n",
    "\n",
    "MTA_on2015_group = MTA_on2015.groupby([\"C/A\",\"UNIT\",\"SCP\"],as_index= False).shift(-1)[[\"DATETIME\",\"QUARTER\",\"ENTRIES\",\"EXITS\"]]\n",
    "MTA_on2015_group.columns= [\"DATETIME_next\",\"QUARTER_next\",\"ENTRIES_next\",\"EXITS_next\"]\n",
    "\n",
    "MTA_2015 = pd.concat([MTA_on2015,MTA_on2015_group],axis = 1 )\n",
    "del MTA_on2015_group\n",
    "\n",
    "MTA_2015[\"EXIT\"]  =MTA_2015[\"EXITS_next\"]-MTA_2015[\"EXITS\"]\n",
    "MTA_2015[\"ENTRY\"]=MTA_2015[\"ENTRIES_next\"]-MTA_2015[\"ENTRIES\"]"
   ]
  },
  {
   "cell_type": "code",
   "execution_count": 4,
   "id": "767faad9",
   "metadata": {
    "scrolled": true
   },
   "outputs": [
    {
     "data": {
      "text/html": [
       "<div>\n",
       "<style scoped>\n",
       "    .dataframe tbody tr th:only-of-type {\n",
       "        vertical-align: middle;\n",
       "    }\n",
       "\n",
       "    .dataframe tbody tr th {\n",
       "        vertical-align: top;\n",
       "    }\n",
       "\n",
       "    .dataframe thead th {\n",
       "        text-align: right;\n",
       "    }\n",
       "</style>\n",
       "<table border=\"1\" class=\"dataframe\">\n",
       "  <thead>\n",
       "    <tr style=\"text-align: right;\">\n",
       "      <th></th>\n",
       "      <th>C/A</th>\n",
       "      <th>UNIT</th>\n",
       "      <th>SCP</th>\n",
       "      <th>ENTRIES</th>\n",
       "      <th>EXITS</th>\n",
       "      <th>DATETIME</th>\n",
       "      <th>QUARTER</th>\n",
       "      <th>DATETIME_next</th>\n",
       "      <th>QUARTER_next</th>\n",
       "      <th>ENTRIES_next</th>\n",
       "      <th>EXITS_next</th>\n",
       "      <th>EXIT</th>\n",
       "      <th>ENTRY</th>\n",
       "    </tr>\n",
       "  </thead>\n",
       "  <tbody>\n",
       "    <tr>\n",
       "      <td>3201</td>\n",
       "      <td>A002</td>\n",
       "      <td>R051</td>\n",
       "      <td>02-00-00</td>\n",
       "      <td>4943391</td>\n",
       "      <td>167474</td>\n",
       "      <td>2015-01-01 03:00:00</td>\n",
       "      <td>2015Q1</td>\n",
       "      <td>2015-01-01 07:00:00</td>\n",
       "      <td>2015Q1</td>\n",
       "      <td>4943411.0</td>\n",
       "      <td>167476.0</td>\n",
       "      <td>2.0</td>\n",
       "      <td>20.0</td>\n",
       "    </tr>\n",
       "    <tr>\n",
       "      <td>8574</td>\n",
       "      <td>A002</td>\n",
       "      <td>R051</td>\n",
       "      <td>02-00-00</td>\n",
       "      <td>4943411</td>\n",
       "      <td>167476</td>\n",
       "      <td>2015-01-01 07:00:00</td>\n",
       "      <td>2015Q1</td>\n",
       "      <td>2015-01-01 11:00:00</td>\n",
       "      <td>2015Q1</td>\n",
       "      <td>4943457.0</td>\n",
       "      <td>167481.0</td>\n",
       "      <td>5.0</td>\n",
       "      <td>46.0</td>\n",
       "    </tr>\n",
       "    <tr>\n",
       "      <td>11341</td>\n",
       "      <td>A002</td>\n",
       "      <td>R051</td>\n",
       "      <td>02-00-00</td>\n",
       "      <td>4943457</td>\n",
       "      <td>167481</td>\n",
       "      <td>2015-01-01 11:00:00</td>\n",
       "      <td>2015Q1</td>\n",
       "      <td>2015-01-01 15:00:00</td>\n",
       "      <td>2015Q1</td>\n",
       "      <td>4943574.0</td>\n",
       "      <td>167485.0</td>\n",
       "      <td>4.0</td>\n",
       "      <td>117.0</td>\n",
       "    </tr>\n",
       "    <tr>\n",
       "      <td>15860</td>\n",
       "      <td>A002</td>\n",
       "      <td>R051</td>\n",
       "      <td>02-00-00</td>\n",
       "      <td>4943574</td>\n",
       "      <td>167485</td>\n",
       "      <td>2015-01-01 15:00:00</td>\n",
       "      <td>2015Q1</td>\n",
       "      <td>2015-01-01 19:00:00</td>\n",
       "      <td>2015Q1</td>\n",
       "      <td>4943819.0</td>\n",
       "      <td>167490.0</td>\n",
       "      <td>5.0</td>\n",
       "      <td>245.0</td>\n",
       "    </tr>\n",
       "    <tr>\n",
       "      <td>21666</td>\n",
       "      <td>A002</td>\n",
       "      <td>R051</td>\n",
       "      <td>02-00-00</td>\n",
       "      <td>4943819</td>\n",
       "      <td>167490</td>\n",
       "      <td>2015-01-01 19:00:00</td>\n",
       "      <td>2015Q1</td>\n",
       "      <td>2015-01-01 23:00:00</td>\n",
       "      <td>2015Q1</td>\n",
       "      <td>4943965.0</td>\n",
       "      <td>167492.0</td>\n",
       "      <td>2.0</td>\n",
       "      <td>146.0</td>\n",
       "    </tr>\n",
       "  </tbody>\n",
       "</table>\n",
       "</div>"
      ],
      "text/plain": [
       "        C/A  UNIT       SCP  ENTRIES   EXITS            DATETIME QUARTER  \\\n",
       "3201   A002  R051  02-00-00  4943391  167474 2015-01-01 03:00:00  2015Q1   \n",
       "8574   A002  R051  02-00-00  4943411  167476 2015-01-01 07:00:00  2015Q1   \n",
       "11341  A002  R051  02-00-00  4943457  167481 2015-01-01 11:00:00  2015Q1   \n",
       "15860  A002  R051  02-00-00  4943574  167485 2015-01-01 15:00:00  2015Q1   \n",
       "21666  A002  R051  02-00-00  4943819  167490 2015-01-01 19:00:00  2015Q1   \n",
       "\n",
       "            DATETIME_next QUARTER_next  ENTRIES_next  EXITS_next  EXIT  ENTRY  \n",
       "3201  2015-01-01 07:00:00       2015Q1     4943411.0    167476.0   2.0   20.0  \n",
       "8574  2015-01-01 11:00:00       2015Q1     4943457.0    167481.0   5.0   46.0  \n",
       "11341 2015-01-01 15:00:00       2015Q1     4943574.0    167485.0   4.0  117.0  \n",
       "15860 2015-01-01 19:00:00       2015Q1     4943819.0    167490.0   5.0  245.0  \n",
       "21666 2015-01-01 23:00:00       2015Q1     4943965.0    167492.0   2.0  146.0  "
      ]
     },
     "execution_count": 4,
     "metadata": {},
     "output_type": "execute_result"
    }
   ],
   "source": [
    "MTA_2015.head()"
   ]
  },
  {
   "cell_type": "code",
   "execution_count": 2,
   "id": "02754dea",
   "metadata": {},
   "outputs": [
    {
     "data": {
      "text/plain": [
       "9795414     2.022943e+09\n",
       "9797914     2.022943e+09\n",
       "1580848     1.988691e+09\n",
       "4654114     1.981612e+09\n",
       "4654063     1.981612e+09\n",
       "                ...     \n",
       "10027752             NaN\n",
       "10027737             NaN\n",
       "10027808             NaN\n",
       "10027817             NaN\n",
       "10028997             NaN\n",
       "Name: ENTRY, Length: 10032237, dtype: float64"
      ]
     },
     "execution_count": 2,
     "metadata": {},
     "output_type": "execute_result"
    }
   ],
   "source": [
    "import numpy as np \n",
    "np.abs(MTA_2015[\"ENTRY\"]).sort_values(ascending = False)"
   ]
  },
  {
   "cell_type": "code",
   "execution_count": 51,
   "id": "33cc5402",
   "metadata": {},
   "outputs": [
    {
     "data": {
      "text/plain": [
       "<matplotlib.axes._subplots.AxesSubplot at 0x1fac12a7d48>"
      ]
     },
     "execution_count": 51,
     "metadata": {},
     "output_type": "execute_result"
    },
    {
     "data": {
      "image/png": "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\n",
      "text/plain": [
       "<Figure size 432x288 with 1 Axes>"
      ]
     },
     "metadata": {
      "needs_background": "light"
     },
     "output_type": "display_data"
    }
   ],
   "source": [
    "pd.Series(np.abs(MTA_2015.loc[MTA_2015[\"ENTRY\"].between(0,1e4),\"ENTRY\"])).plot.hist(bins=100)"
   ]
  },
  {
   "cell_type": "code",
   "execution_count": 5,
   "id": "c803a3e1",
   "metadata": {},
   "outputs": [
    {
     "data": {
      "text/plain": [
       "<matplotlib.axes._subplots.AxesSubplot at 0x17e083d0448>"
      ]
     },
     "execution_count": 5,
     "metadata": {},
     "output_type": "execute_result"
    },
    {
     "data": {
      "image/png": "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\n",
      "text/plain": [
       "<Figure size 432x288 with 1 Axes>"
      ]
     },
     "metadata": {
      "needs_background": "light"
     },
     "output_type": "display_data"
    }
   ],
   "source": [
    "pd.Series(np.abs(MTA_2015.loc[MTA_2015[\"ENTRY\"].between(2000,1e4),\"ENTRY\"])).plot.hist(bins=100)"
   ]
  },
  {
   "cell_type": "code",
   "execution_count": 6,
   "id": "c8de27cb",
   "metadata": {},
   "outputs": [
    {
     "data": {
      "text/plain": [
       "<matplotlib.axes._subplots.AxesSubplot at 0x17e5c920088>"
      ]
     },
     "execution_count": 6,
     "metadata": {},
     "output_type": "execute_result"
    },
    {
     "data": {
      "image/png": "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\n",
      "text/plain": [
       "<Figure size 432x288 with 1 Axes>"
      ]
     },
     "metadata": {
      "needs_background": "light"
     },
     "output_type": "display_data"
    }
   ],
   "source": [
    "pd.Series(np.abs(MTA_2015.loc[MTA_2015[\"ENTRY\"].between(4000,1e4),\"ENTRY\"])).plot.hist(bins=100)"
   ]
  },
  {
   "cell_type": "code",
   "execution_count": 9,
   "id": "31e81ef9",
   "metadata": {},
   "outputs": [
    {
     "data": {
      "text/plain": [
       "<matplotlib.axes._subplots.AxesSubplot at 0x17e71b4f048>"
      ]
     },
     "execution_count": 9,
     "metadata": {},
     "output_type": "execute_result"
    },
    {
     "data": {
      "image/png": "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\n",
      "text/plain": [
       "<Figure size 432x288 with 1 Axes>"
      ]
     },
     "metadata": {
      "needs_background": "light"
     },
     "output_type": "display_data"
    }
   ],
   "source": [
    "pd.Series(np.abs(MTA_2015.loc[MTA_2015[\"ENTRY\"].between(2000,4000),\"ENTRY\"])).plot.hist(bins=100)"
   ]
  },
  {
   "cell_type": "code",
   "execution_count": 55,
   "id": "92b4cb27",
   "metadata": {},
   "outputs": [
    {
     "data": {
      "text/plain": [
       "<matplotlib.axes._subplots.AxesSubplot at 0x1fac18aa608>"
      ]
     },
     "execution_count": 55,
     "metadata": {},
     "output_type": "execute_result"
    },
    {
     "data": {
      "image/png": "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\n",
      "text/plain": [
       "<Figure size 432x288 with 1 Axes>"
      ]
     },
     "metadata": {
      "needs_background": "light"
     },
     "output_type": "display_data"
    }
   ],
   "source": [
    "pd.Series(np.abs(MTA_2015.loc[MTA_2015[\"ENTRY\"].between(1e4,1e5),\"ENTRY\"])).plot.hist(bins=100)"
   ]
  },
  {
   "cell_type": "code",
   "execution_count": 40,
   "id": "69f97d9e",
   "metadata": {},
   "outputs": [
    {
     "data": {
      "text/plain": [
       "<matplotlib.axes._subplots.AxesSubplot at 0x1fac0ba8408>"
      ]
     },
     "execution_count": 40,
     "metadata": {},
     "output_type": "execute_result"
    },
    {
     "data": {
      "image/png": "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\n",
      "text/plain": [
       "<Figure size 432x288 with 1 Axes>"
      ]
     },
     "metadata": {
      "needs_background": "light"
     },
     "output_type": "display_data"
    }
   ],
   "source": [
    "pd.Series(np.abs(MTA_2015.loc[MTA_2015[\"ENTRY\"].between(1e4,1e5),\"ENTRY\"])).plot.hist(bins=100)"
   ]
  },
  {
   "cell_type": "code",
   "execution_count": 41,
   "id": "c0a955ea",
   "metadata": {},
   "outputs": [
    {
     "data": {
      "text/plain": [
       "<matplotlib.axes._subplots.AxesSubplot at 0x1fabffaf8c8>"
      ]
     },
     "execution_count": 41,
     "metadata": {},
     "output_type": "execute_result"
    },
    {
     "data": {
      "image/png": "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\n",
      "text/plain": [
       "<Figure size 432x288 with 1 Axes>"
      ]
     },
     "metadata": {
      "needs_background": "light"
     },
     "output_type": "display_data"
    }
   ],
   "source": [
    "pd.Series(np.abs(MTA_2015.loc[MTA_2015[\"ENTRY\"].between(4e4,1e5),\"ENTRY\"])).plot.hist(bins=100)"
   ]
  },
  {
   "cell_type": "code",
   "execution_count": 46,
   "id": "3b88d8f3",
   "metadata": {},
   "outputs": [
    {
     "data": {
      "text/plain": [
       "<matplotlib.axes._subplots.AxesSubplot at 0x1fad8f9f148>"
      ]
     },
     "execution_count": 46,
     "metadata": {},
     "output_type": "execute_result"
    },
    {
     "data": {
      "image/png": "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\n",
      "text/plain": [
       "<Figure size 432x288 with 1 Axes>"
      ]
     },
     "metadata": {
      "needs_background": "light"
     },
     "output_type": "display_data"
    }
   ],
   "source": [
    "pd.Series(np.abs(MTA_2015.loc[MTA_2015[\"EXIT\"].between(0,2000),\"EXIT\"])).plot.hist(bins=100)"
   ]
  },
  {
   "cell_type": "code",
   "execution_count": 48,
   "id": "bbf430f0",
   "metadata": {},
   "outputs": [
    {
     "data": {
      "text/plain": [
       "<matplotlib.axes._subplots.AxesSubplot at 0x1fabf90cc48>"
      ]
     },
     "execution_count": 48,
     "metadata": {},
     "output_type": "execute_result"
    },
    {
     "data": {
      "image/png": "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\n",
      "text/plain": [
       "<Figure size 432x288 with 1 Axes>"
      ]
     },
     "metadata": {
      "needs_background": "light"
     },
     "output_type": "display_data"
    }
   ],
   "source": [
    "pd.Series(np.abs(MTA_2015.loc[MTA_2015[\"EXIT\"].between(0,500),\"EXIT\"])).plot.hist(bins=100)"
   ]
  },
  {
   "cell_type": "code",
   "execution_count": 50,
   "id": "862b5bfb",
   "metadata": {
    "scrolled": false
   },
   "outputs": [
    {
     "data": {
      "text/plain": [
       "<matplotlib.axes._subplots.AxesSubplot at 0x1fac11355c8>"
      ]
     },
     "execution_count": 50,
     "metadata": {},
     "output_type": "execute_result"
    },
    {
     "data": {
      "image/png": "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\n",
      "text/plain": [
       "<Figure size 432x288 with 1 Axes>"
      ]
     },
     "metadata": {
      "needs_background": "light"
     },
     "output_type": "display_data"
    }
   ],
   "source": [
    "pd.Series(np.abs(MTA_2015.loc[MTA_2015[\"EXIT\"].between(0,150),\"EXIT\"])).plot.hist(bins=100)"
   ]
  },
  {
   "cell_type": "markdown",
   "id": "0fdff114",
   "metadata": {},
   "source": [
    "## summarize traffic through quarter period"
   ]
  },
  {
   "cell_type": "code",
   "execution_count": 4,
   "id": "fdb72262",
   "metadata": {},
   "outputs": [
    {
     "name": "stderr",
     "output_type": "stream",
     "text": [
      "C:\\Users\\Harmony_Chen\\Anaconda3\\lib\\site-packages\\ipykernel_launcher.py:33: SettingWithCopyWarning: \n",
      "A value is trying to be set on a copy of a slice from a DataFrame.\n",
      "Try using .loc[row_indexer,col_indexer] = value instead\n",
      "\n",
      "See the caveats in the documentation: http://pandas.pydata.org/pandas-docs/stable/user_guide/indexing.html#returning-a-view-versus-a-copy\n"
     ]
    }
   ],
   "source": [
    "#data cleaning\n",
    "import math\n",
    "import pandas as pd\n",
    "import numpy as np\n",
    "for year_num in range(2015,2022):\n",
    "    MTA_on = pd.read_csv(\"MTA_on{}.csv\".format(year_num))\n",
    "    MTA_on[\"DATETIME\"]=pd.to_datetime(MTA_on[\"DATETIME\"])\n",
    "\n",
    "    def year_quarter(row):\n",
    "        return \"{}Q{}\".format(row[\"DATETIME\"].year,row[\"DATETIME\"].quarter)\n",
    "\n",
    "    MTA_on[\"QUARTER\"]=MTA_on.apply(year_quarter,axis=1)\n",
    "\n",
    "    MTA_on.drop([\"STATION\",\"LINENAME\",\"DIVISION\",\"DESC\"],axis=1,inplace=True)\n",
    "\n",
    "    MTA_on = MTA_on.sort_values([\"C/A\",\"UNIT\",\"SCP\",\"DATETIME\"])\n",
    "\n",
    "    MTA_on_group = MTA_on.groupby([\"C/A\",\"UNIT\",\"SCP\"],as_index= False).shift(-1)[[\"DATETIME\",\"QUARTER\",\"ENTRIES\",\"EXITS\"]]\n",
    "    MTA_on_group.columns= [\"DATETIME_next\",\"QUARTER_next\",\"ENTRIES_next\",\"EXITS_next\"]\n",
    "\n",
    "    MTA = pd.concat([MTA_on,MTA_on_group],axis = 1 )\n",
    "    del MTA_on_group,MTA_on\n",
    "    MTA[\"EXIT\"]  =MTA[\"EXITS_next\"]-MTA[\"EXITS\"]\n",
    "    MTA[\"ENTRY\"]=np.abs(MTA[\"ENTRIES_next\"]-MTA[\"ENTRIES\"])\n",
    "\n",
    "\n",
    "    #define abs(\"ENTRY\")<3500 for each gate each 4 hour\n",
    "\n",
    "    #delete outlier \"Entry\">3500 in each 4 hour.\n",
    "\n",
    "    Volume_part1 = MTA[(MTA[\"DATETIME_next\"] - MTA[\"DATETIME\"]==pd.Timedelta(\"4 hour\"))\\\n",
    "             &(np.abs(MTA[\"ENTRY\"])<3500)]\n",
    "    Volume_part1[\"ENTRY\"]=np.abs(Volume_part1[\"ENTRY\"])\n",
    "\n",
    "\n",
    "    # filtrate data that time period larger than one day\n",
    "    Volume_part2 = MTA[(MTA[\"DATETIME_next\"] - MTA[\"DATETIME\"]>pd.Timedelta(\"1 day\"))\\\n",
    "                    &(MTA[\"QUARTER_next\"]==MTA[\"QUARTER\"])]\n",
    "\n",
    "    Volume_part2=Volume_part2[Volume_part2[\"ENTRY\"]/\\\n",
    "                    ((Volume_part2[\"DATETIME_next\"] - Volume_part2[\"DATETIME\"])/pd.Timedelta(\"4 hour\"))<3500]             \n",
    "\n",
    "    Volume_part2[\"ENTRY\"]=np.abs(Volume_part2[\"ENTRY\"])\n",
    "\n",
    "    # filtrate data that time period larger than one day and data distributed in different quarter\n",
    "    Volume_part3 = MTA[(MTA[\"DATETIME_next\"] - MTA[\"DATETIME\"]>pd.Timedelta(\"1 day\"))\\\n",
    "                    &(MTA[\"QUARTER_next\"]!=MTA[\"QUARTER\"])]\n",
    "\n",
    "    Volume_part3=Volume_part3[Volume_part3[\"ENTRY\"]/\\\n",
    "                    ((Volume_part3[\"DATETIME_next\"] - Volume_part3[\"DATETIME\"])/pd.Timedelta(\"4 hour\"))<3500]\n",
    "\n",
    "    Volume_part3=Volume_part3[Volume_part3[\"ENTRY\"]/\\\n",
    "                    ((Volume_part3[\"DATETIME_next\"] - Volume_part3[\"DATETIME\"])/pd.Timedelta(\"4 hour\"))>10]\n",
    "\n",
    "    #concatenate data\n",
    "    Volume_1 = Volume_part1.groupby([\"C/A\",\"UNIT\",\"QUARTER\"],as_index=False).sum()\n",
    "    Volume_2 = Volume_part2.groupby([\"C/A\",\"UNIT\",\"QUARTER\"],as_index=False).sum()\n",
    "\n",
    "    Q1 = \"{}Q1\".format(year_num)\n",
    "    Q2 = \"{}Q2\".format(year_num)\n",
    "    Q3 = \"{}Q3\".format(year_num)\n",
    "    Q4 = \"{}Q4\".format(year_num)\n",
    "    quarter_dict = {Q1:pd.to_datetime(\"{}-03-31 23:59:59\".format(year_num)),\n",
    "                    Q2:pd.to_datetime(\"{}-06-30 23:59:59\".format(year_num)),  \n",
    "                    Q3:pd.to_datetime(\"{}-09-30 23:59:59\".format(year_num)),\n",
    "                    Q4:pd.to_datetime(\"{}-12-31 23:59:59\".format(year_num))}\n",
    "    Volume_3=pd.DataFrame(columns=Volume_2.columns)\n",
    "    # for those filtrated data distributed in different quarter, split traffic based on ratio of time period to quarter split point.\n",
    "    for index,row in Volume_part3.iterrows():\n",
    "        q1 = math.ceil((quarter_dict[row[\"QUARTER\"]]-row[\"DATETIME\"])/pd.Timedelta(\"4 hour\"))\n",
    "        q2 = math.floor((row[\"DATETIME_next\"]-quarter_dict[row[\"QUARTER\"]])/pd.Timedelta(\"4 hour\"))\n",
    "        Volume_3.loc[len(Volume_3)] = [row[\"C/A\"],row[\"UNIT\"],row[\"QUARTER\"],row[\"ENTRIES\"],row[\"EXITS\"],row[\"ENTRIES_next\"],row[\"EXITS_next\"],row[\"EXIT\"],row[\"ENTRY\"]*(q1/(q1+q2))]\n",
    "        Volume_3.loc[len(Volume_3)] = [row[\"C/A\"],row[\"UNIT\"],row[\"QUARTER_next\"],row[\"ENTRIES\"],row[\"EXITS\"],row[\"ENTRIES_next\"],row[\"EXITS_next\"],row[\"EXIT\"],row[\"ENTRY\"]*(q2/(q1+q2))]\n",
    "\n",
    "    Volume_3=Volume_3.groupby([\"C/A\",\"UNIT\",\"QUARTER\"],as_index=False).sum()\n",
    "\n",
    "    Volume= pd.concat([Volume_1,Volume_2,Volume_3],ignore_index=True,sort=False)\n",
    "\n",
    "    Volume=Volume.groupby([\"C/A\",\"UNIT\",\"QUARTER\"],as_index=False).sum()\n",
    "\n",
    "    Volume.to_csv(\"Volume{}.csv\".format(year_num),index=False,header=True)\n",
    "    del Volume,MTA"
   ]
  },
  {
   "cell_type": "code",
   "execution_count": 5,
   "id": "d1d935c7",
   "metadata": {},
   "outputs": [],
   "source": [
    "Volume=pd.DataFrame(columns=Volume_2.columns)\n",
    "\n",
    "for year_num in range(2015,2022):\n",
    "    Volume_year = pd.read_csv(\"Volume{}.csv\".format(year_num))\n",
    "    Volume = pd.concat([Volume,Volume_year],ignore_index=True)\n",
    "Volume.to_csv(\"Volume2015_2021.csv\",index=False,header=True)"
   ]
  },
  {
   "cell_type": "code",
   "execution_count": 9,
   "id": "1d0c13e5",
   "metadata": {
    "scrolled": false
   },
   "outputs": [],
   "source": [
    "import pandas as pd\n",
    "Volume = pd.read_csv(\"Volume2015_2021.csv\")\n",
    "#Volume = pd.read_csv(\"Volume2015_2020.csv\")\n",
    "Volume.drop([\"EXITS\",\"ENTRIES\",\"ENTRIES_next\",\"EXITS_next\"],axis=1,inplace=True)\n",
    "Volume.sort_values(\"QUARTER\",ascending=False)\n",
    "Station_Volume = Volume.groupby([\"C/A\",\"UNIT\",\"QUARTER\"],as_index=False).sum()"
   ]
  },
  {
   "cell_type": "markdown",
   "id": "0a6790d2",
   "metadata": {},
   "source": [
    "#  Data Analysis"
   ]
  },
  {
   "cell_type": "markdown",
   "id": "9e0c7bea",
   "metadata": {},
   "source": [
    "## Selecting traffic in ShakeShack area stations"
   ]
  },
  {
   "cell_type": "code",
   "execution_count": 10,
   "id": "532b1265",
   "metadata": {},
   "outputs": [],
   "source": [
    "ShakeShack_area_station= pd.read_csv(\"ShakeShack_area_station.csv\")\n",
    "Location_NY = pd.read_csv(\"Location_NY.csv\")\n",
    "\n",
    "Location_NY = Location_NY.sort_values(\"open_date\")"
   ]
  },
  {
   "cell_type": "code",
   "execution_count": 11,
   "id": "4a87493a",
   "metadata": {},
   "outputs": [
    {
     "name": "stderr",
     "output_type": "stream",
     "text": [
      "C:\\Users\\Harmony_Chen\\Anaconda3\\lib\\site-packages\\tqdm\\std.py:648: FutureWarning: The Panel class is removed from pandas. Accessing it from the top-level namespace will also be removed in the next version\n",
      "  from pandas import Panel\n"
     ]
    }
   ],
   "source": [
    "import requests\n",
    "from bs4 import BeautifulSoup\n",
    "import pandas as pd\n",
    "from urllib.parse import unquote\n",
    "\n",
    "domain = 'https://www.shakeshack.com'\n",
    "req = requests.get(f'{domain}/locations/')\n",
    "soup = BeautifulSoup(req.content,\"html.parser\")\n",
    "from geopy.geocoders import Nominatim, MapBox\n",
    "from geopy.extra.rate_limiter import RateLimiter\n",
    "from tqdm import tqdm\n",
    "tqdm.pandas()\n",
    "\n",
    "NYC = soup.find_all(\"div\",{\"id\":\"usa_New_York\"})\n",
    "directions = NYC[0].find_all(\"a\",{\"class\":\"js-dir\"})\n",
    "names = NYC[0].find_all(\"h4\")\n",
    "locations = []\n",
    "shopnames = []\n",
    "for i, direction in enumerate(directions):\n",
    "    location = direction[\"data-location\"].replace(\"+\",\" \")\n",
    "    location = location.replace(\"%2C\",\"\")\n",
    "    location = location.replace(\"%0D%0A\",\"\")\n",
    "    location = location.replace(\"%C2%A0\",\"\")\n",
    "    location = location.replace(\"%26\",\"&\")\n",
    "    location = location.replace(\"%2F\",\"\")\n",
    "    location = location.replace(\"Shake Shack \",\"\")\n",
    "    locations.append(location)\n",
    "    shopnames.append(names[i].get_text())\n",
    "\n",
    "\n",
    "locations[locations.index('8000 Mall Walk Yonkers NY 10704')]=locations[locations.index('8000 Mall Walk Yonkers NY 10704')].replace(\"8000\",\"2090\")\n",
    "\n",
    "locations\n",
    "\n",
    "locations[locations.index('40.753302-74.000577')]=locations[locations.index('40.753302-74.000577')].replace(\"40.753302-74.000577\",\"20 Hudson Yards New York NY 10001\")\n",
    "mapbox = MapBox(api_key=\"pk.eyJ1IjoiY2h4dWhlc2giLCJhIjoiY2tya2U1NWUyMjAxMjJ1bzJpZTk5cDEyayJ9.mdXnk3I-E208ofa3i-E5-g\")\n",
    "geocode = RateLimiter(mapbox.geocode, min_delay_seconds=1, max_retries=3)\n",
    "\n",
    "import pandas as pd\n",
    "df = pd.DataFrame({'name': shopnames,'location_ShakeShack': locations})\n",
    "\n",
    "#geolocator = Nominatim(user_agent=\"myuseragent\")\n",
    "\n",
    "#from geopy.extra.rate_limiter import RateLimiter\n",
    "#geocode = RateLimiter(geolocator.geocode, min_delay_seconds=1)\n",
    "df['point'] = df['location_ShakeShack'].apply(geocode).apply(lambda loc: tuple(loc.point) if loc else None)\n",
    "df[['latitude', 'longitude', 'altitude']] =   pd.DataFrame(df['point'].tolist(), index=df.index)"
   ]
  },
  {
   "cell_type": "code",
   "execution_count": 13,
   "id": "e36a5401",
   "metadata": {},
   "outputs": [
    {
     "name": "stderr",
     "output_type": "stream",
     "text": [
      "C:\\Users\\Harmony_Chen\\Anaconda3\\lib\\site-packages\\ipykernel_launcher.py:11: FutureWarning:     You are passing non-geometry data to the GeoSeries constructor. Currently,\n",
      "    it falls back to returning a pandas Series. But in the future, we will start\n",
      "    to raise a TypeError instead.\n",
      "  # This is added back by InteractiveShellApp.init_path()\n",
      "C:\\Users\\Harmony_Chen\\Anaconda3\\lib\\site-packages\\geopandas\\tools\\sjoin.py:61: UserWarning: CRS of frames being joined does not match!(None != {})\n",
      "  \"(%s != %s)\" % (left_df.crs, right_df.crs)\n"
     ]
    },
    {
     "name": "stdout",
     "output_type": "stream",
     "text": [
      "0.03 : 554\n"
     ]
    }
   ],
   "source": [
    "import geopandas\n",
    "from shapely.geometry import Point\n",
    "\n",
    "geocoded = geopandas.read_file(\"geocoded.csv\")\n",
    "\n",
    "#for buffer_range in np.arange(0.03,0.5,0.01):\n",
    "buffer_range=0.03\n",
    "geocoded[geocoded[\"field_6\"]==\"\"]=None\n",
    "geocoded.dropna(axis=0,subset = [\"field_6\", \"field_7\"],inplace=True)\n",
    "\n",
    "geocoded[\"geometry\"]=geopandas.GeoSeries(list(zip(geocoded[\"field_6\"].astype(dtype=\"float\"),geocoded[\"field_7\"].astype(dtype=\"float\")))).apply(Point)\n",
    "\n",
    "geocoded.dropna(axis=0,subset = [\"geometry\"],inplace=True)\n",
    "\n",
    "geoshakeshack = geopandas.GeoDataFrame(df)\n",
    "\n",
    "geoshakeshack.rename(columns= {\"point\":\"geometry\"},inplace=True)\n",
    "\n",
    "geoshakeshack[\"geometry\"]=geoshakeshack[\"geometry\"].apply(Point)\n",
    "\n",
    "ShakeShack_Area = geopandas.GeoDataFrame(df[\"name\"], geometry = geoshakeshack[\"geometry\"].buffer(buffer_range))\n",
    "spacial_join_station = geopandas.sjoin(ShakeShack_Area,geocoded,how='left',op='contains') \n",
    "ShakeShack_area_station= spacial_join_station[[\"name\",\"field_1\",\"field_2\"]]\n",
    "del spacial_join_station\n",
    "\n",
    "\n",
    "#Station_Volume[\"C/A\"] = Station_Volume[\"C/A\"].str.strip()\n",
    "#Station_Volume[\"UNIT\"] = Station_Volume[\"UNIT\"].str.strip()\n",
    "\n",
    "#ShakeShack_area_station[\"name\"]=ShakeShack_area_station[\"name\"].str.strip()\n",
    "#Location_NY[\"name\"]=Location_NY[\"name\"].str.strip()\n",
    "\n",
    "\n",
    "#2015Q1 Volume in stations closed to ShakeShack\n",
    "new_open_quarter = list(Location_NY[\"open_date\"].unique())\n",
    "quarters = list(Volume[\"QUARTER\"].unique())\n",
    "\n",
    "Total_station = list(ShakeShack_area_station[ShakeShack_area_station[\"name\"].isin(Location_NY[Location_NY[\"open_date\"]==\"2014Q4\"][\"name\"])]\\\n",
    "[\"field_1\"].unique())\n",
    "Total_station.extend(list(ShakeShack_area_station[ShakeShack_area_station[\"name\"].isin(Location_NY[Location_NY[\"open_date\"]==\"2014Q4\"][\"name\"])]\\\n",
    "[\"field_2\"].unique()))\n",
    "\n",
    "Total_station = list(set(Total_station))\n",
    "ShakeShack_Station_Volume = pd.DataFrame(columns= [\"QUARTER\",\"Volume\"])\n",
    "for quarter in quarters:\n",
    "    if quarter in new_open_quarter:\n",
    "        new_store = Location_NY[Location_NY[\"open_date\"] == quarter][\"name\"].tolist()\n",
    "\n",
    "        update_station = list(ShakeShack_area_station[ShakeShack_area_station[\"name\"].isin(new_store)]\\\n",
    "[\"field_1\"].unique())\n",
    "        update_station.extend(list(ShakeShack_area_station[ShakeShack_area_station[\"name\"].isin(new_store)]\\\n",
    "[\"field_2\"].unique()))\n",
    "\n",
    "        update_station =list(set(update_station))\n",
    "        Total_station.extend(update_station)\n",
    "        Total_station = list(set(Total_station))\n",
    "    Total_volume = Station_Volume[((Station_Volume[\"UNIT\"].isin(Total_station))|(Station_Volume[\"C/A\"].isin(Total_station)))\\\n",
    "                                  &(Station_Volume[\"QUARTER\"]==quarter)][\"ENTRY\"].sum()\n",
    "    Count = []\n",
    "    Count.append(Station_Volume[((Station_Volume[\"UNIT\"].isin(Total_station))|(Station_Volume[\"C/A\"].isin(Total_station)))\\\n",
    "                                  &(Station_Volume[\"QUARTER\"]==quarter)][\"ENTRY\"].count()) \n",
    "    ShakeShack_Station_Volume.loc[len(ShakeShack_Station_Volume)]={\"QUARTER\":quarter,\"Volume\":Total_volume}\n",
    "print(buffer_range, \":\",max(Count))\n"
   ]
  },
  {
   "cell_type": "code",
   "execution_count": 74,
   "id": "f9759dc1",
   "metadata": {},
   "outputs": [
    {
     "data": {
      "text/plain": [
       "624"
      ]
     },
     "execution_count": 74,
     "metadata": {},
     "output_type": "execute_result"
    }
   ],
   "source": [
    "len(Total_station)"
   ]
  },
  {
   "cell_type": "code",
   "execution_count": 14,
   "id": "7a2c0376",
   "metadata": {},
   "outputs": [],
   "source": [
    "#Quater time transform\n",
    "quarter_dict = {\"1\":\"3-31\",\"2\":\"6-30\",\"3\":\"9-30\",\"4\":\"12-31\"}\n",
    "def quarter_date(row):\n",
    "    Y =row[\"QUARTER\"].split(\"Q\")[0]\n",
    "    Q =quarter_dict[row[\"QUARTER\"].split(\"Q\")[1]]\n",
    "    return \"{}-{}\".format(Y,Q)\n",
    "ShakeShack_Station_Volume[\"QUARTER\"]=ShakeShack_Station_Volume.apply(quarter_date,axis=1)"
   ]
  },
  {
   "cell_type": "code",
   "execution_count": 15,
   "id": "db9fae5c",
   "metadata": {},
   "outputs": [],
   "source": [
    "ShakeShack_Station_Volume[\"QUARTER\"]=pd.to_datetime(ShakeShack_Station_Volume[\"QUARTER\"])\n",
    "\n",
    "ShakeShack_Station_Volume[\"QUARTER\"]=pd.to_datetime(ShakeShack_Station_Volume[\"QUARTER\"])"
   ]
  },
  {
   "cell_type": "code",
   "execution_count": 17,
   "id": "aa00e347",
   "metadata": {},
   "outputs": [
    {
     "data": {
      "text/plain": [
       "<matplotlib.axes._subplots.AxesSubplot at 0x1ee9089cd08>"
      ]
     },
     "execution_count": 17,
     "metadata": {},
     "output_type": "execute_result"
    },
    {
     "data": {
      "image/png": "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\n",
      "text/plain": [
       "<Figure size 432x288 with 1 Axes>"
      ]
     },
     "metadata": {
      "needs_background": "light"
     },
     "output_type": "display_data"
    }
   ],
   "source": [
    "ShakeShack_Station_Volume.plot(x=\"QUARTER\",y=\"Volume\")"
   ]
  },
  {
   "cell_type": "code",
   "execution_count": 18,
   "id": "ebccf91e",
   "metadata": {
    "scrolled": true
   },
   "outputs": [
    {
     "data": {
      "text/html": [
       "<div>\n",
       "<style scoped>\n",
       "    .dataframe tbody tr th:only-of-type {\n",
       "        vertical-align: middle;\n",
       "    }\n",
       "\n",
       "    .dataframe tbody tr th {\n",
       "        vertical-align: top;\n",
       "    }\n",
       "\n",
       "    .dataframe thead th {\n",
       "        text-align: right;\n",
       "    }\n",
       "</style>\n",
       "<table border=\"1\" class=\"dataframe\">\n",
       "  <thead>\n",
       "    <tr style=\"text-align: right;\">\n",
       "      <th></th>\n",
       "      <th>QUARTER</th>\n",
       "      <th>Volume</th>\n",
       "    </tr>\n",
       "  </thead>\n",
       "  <tbody>\n",
       "    <tr>\n",
       "      <td>0</td>\n",
       "      <td>2015-03-31</td>\n",
       "      <td>3.136650e+08</td>\n",
       "    </tr>\n",
       "    <tr>\n",
       "      <td>1</td>\n",
       "      <td>2015-06-30</td>\n",
       "      <td>3.446551e+08</td>\n",
       "    </tr>\n",
       "    <tr>\n",
       "      <td>2</td>\n",
       "      <td>2015-09-30</td>\n",
       "      <td>3.293448e+08</td>\n",
       "    </tr>\n",
       "    <tr>\n",
       "      <td>3</td>\n",
       "      <td>2015-12-31</td>\n",
       "      <td>3.511023e+08</td>\n",
       "    </tr>\n",
       "    <tr>\n",
       "      <td>4</td>\n",
       "      <td>2016-03-31</td>\n",
       "      <td>3.290541e+08</td>\n",
       "    </tr>\n",
       "    <tr>\n",
       "      <td>5</td>\n",
       "      <td>2016-06-30</td>\n",
       "      <td>3.486094e+08</td>\n",
       "    </tr>\n",
       "    <tr>\n",
       "      <td>6</td>\n",
       "      <td>2016-09-30</td>\n",
       "      <td>3.358445e+08</td>\n",
       "    </tr>\n",
       "    <tr>\n",
       "      <td>7</td>\n",
       "      <td>2016-12-31</td>\n",
       "      <td>3.498224e+08</td>\n",
       "    </tr>\n",
       "    <tr>\n",
       "      <td>8</td>\n",
       "      <td>2017-03-31</td>\n",
       "      <td>3.271664e+08</td>\n",
       "    </tr>\n",
       "    <tr>\n",
       "      <td>9</td>\n",
       "      <td>2017-06-30</td>\n",
       "      <td>3.441766e+08</td>\n",
       "    </tr>\n",
       "    <tr>\n",
       "      <td>10</td>\n",
       "      <td>2017-09-30</td>\n",
       "      <td>3.289566e+08</td>\n",
       "    </tr>\n",
       "    <tr>\n",
       "      <td>11</td>\n",
       "      <td>2017-12-31</td>\n",
       "      <td>3.423930e+08</td>\n",
       "    </tr>\n",
       "    <tr>\n",
       "      <td>12</td>\n",
       "      <td>2018-03-31</td>\n",
       "      <td>3.187637e+08</td>\n",
       "    </tr>\n",
       "    <tr>\n",
       "      <td>13</td>\n",
       "      <td>2018-06-30</td>\n",
       "      <td>3.454572e+08</td>\n",
       "    </tr>\n",
       "    <tr>\n",
       "      <td>14</td>\n",
       "      <td>2018-09-30</td>\n",
       "      <td>3.336477e+08</td>\n",
       "    </tr>\n",
       "    <tr>\n",
       "      <td>15</td>\n",
       "      <td>2018-12-31</td>\n",
       "      <td>3.592657e+08</td>\n",
       "    </tr>\n",
       "    <tr>\n",
       "      <td>16</td>\n",
       "      <td>2019-03-31</td>\n",
       "      <td>3.382669e+08</td>\n",
       "    </tr>\n",
       "    <tr>\n",
       "      <td>17</td>\n",
       "      <td>2019-06-30</td>\n",
       "      <td>3.635176e+08</td>\n",
       "    </tr>\n",
       "    <tr>\n",
       "      <td>18</td>\n",
       "      <td>2019-09-30</td>\n",
       "      <td>3.478398e+08</td>\n",
       "    </tr>\n",
       "    <tr>\n",
       "      <td>19</td>\n",
       "      <td>2019-12-31</td>\n",
       "      <td>3.633461e+08</td>\n",
       "    </tr>\n",
       "    <tr>\n",
       "      <td>20</td>\n",
       "      <td>2020-03-31</td>\n",
       "      <td>2.806313e+08</td>\n",
       "    </tr>\n",
       "    <tr>\n",
       "      <td>21</td>\n",
       "      <td>2020-06-30</td>\n",
       "      <td>3.980815e+07</td>\n",
       "    </tr>\n",
       "    <tr>\n",
       "      <td>22</td>\n",
       "      <td>2020-09-30</td>\n",
       "      <td>8.384108e+07</td>\n",
       "    </tr>\n",
       "    <tr>\n",
       "      <td>23</td>\n",
       "      <td>2020-12-31</td>\n",
       "      <td>9.982627e+07</td>\n",
       "    </tr>\n",
       "    <tr>\n",
       "      <td>24</td>\n",
       "      <td>2021-03-31</td>\n",
       "      <td>9.173770e+07</td>\n",
       "    </tr>\n",
       "    <tr>\n",
       "      <td>25</td>\n",
       "      <td>2021-06-30</td>\n",
       "      <td>1.179859e+08</td>\n",
       "    </tr>\n",
       "    <tr>\n",
       "      <td>26</td>\n",
       "      <td>2021-09-30</td>\n",
       "      <td>5.167127e+07</td>\n",
       "    </tr>\n",
       "  </tbody>\n",
       "</table>\n",
       "</div>"
      ],
      "text/plain": [
       "      QUARTER        Volume\n",
       "0  2015-03-31  3.136650e+08\n",
       "1  2015-06-30  3.446551e+08\n",
       "2  2015-09-30  3.293448e+08\n",
       "3  2015-12-31  3.511023e+08\n",
       "4  2016-03-31  3.290541e+08\n",
       "5  2016-06-30  3.486094e+08\n",
       "6  2016-09-30  3.358445e+08\n",
       "7  2016-12-31  3.498224e+08\n",
       "8  2017-03-31  3.271664e+08\n",
       "9  2017-06-30  3.441766e+08\n",
       "10 2017-09-30  3.289566e+08\n",
       "11 2017-12-31  3.423930e+08\n",
       "12 2018-03-31  3.187637e+08\n",
       "13 2018-06-30  3.454572e+08\n",
       "14 2018-09-30  3.336477e+08\n",
       "15 2018-12-31  3.592657e+08\n",
       "16 2019-03-31  3.382669e+08\n",
       "17 2019-06-30  3.635176e+08\n",
       "18 2019-09-30  3.478398e+08\n",
       "19 2019-12-31  3.633461e+08\n",
       "20 2020-03-31  2.806313e+08\n",
       "21 2020-06-30  3.980815e+07\n",
       "22 2020-09-30  8.384108e+07\n",
       "23 2020-12-31  9.982627e+07\n",
       "24 2021-03-31  9.173770e+07\n",
       "25 2021-06-30  1.179859e+08\n",
       "26 2021-09-30  5.167127e+07"
      ]
     },
     "execution_count": 18,
     "metadata": {},
     "output_type": "execute_result"
    }
   ],
   "source": [
    "ShakeShack_Station_Volume"
   ]
  },
  {
   "cell_type": "markdown",
   "id": "15acb002",
   "metadata": {},
   "source": [
    "## Collecting ShakeShack Revenue data"
   ]
  },
  {
   "cell_type": "code",
   "execution_count": 3,
   "id": "b90ff9cb",
   "metadata": {},
   "outputs": [],
   "source": [
    "import pandas as pd\n",
    "ShakeShack_Revenue = pd.read_csv(\"ShakeShack_Revenue.csv\")"
   ]
  },
  {
   "cell_type": "code",
   "execution_count": 20,
   "id": "4a191e35",
   "metadata": {},
   "outputs": [
    {
     "data": {
      "text/plain": [
       "<matplotlib.axes._subplots.AxesSubplot at 0x1edea026b48>"
      ]
     },
     "execution_count": 20,
     "metadata": {},
     "output_type": "execute_result"
    },
    {
     "data": {
      "image/png": "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\n",
      "text/plain": [
       "<Figure size 432x288 with 1 Axes>"
      ]
     },
     "metadata": {
      "needs_background": "light"
     },
     "output_type": "display_data"
    }
   ],
   "source": [
    "ShakeShack_Revenue.plot.line(x=\"Date\",y=[\"Operating Income\",\"Revenue\"])"
   ]
  },
  {
   "cell_type": "code",
   "execution_count": 156,
   "id": "2fa60f11",
   "metadata": {
    "scrolled": true
   },
   "outputs": [
    {
     "data": {
      "text/plain": [
       "<matplotlib.axes._subplots.AxesSubplot at 0x1d9a3534848>"
      ]
     },
     "execution_count": 156,
     "metadata": {},
     "output_type": "execute_result"
    },
    {
     "data": {
      "image/png": "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\n",
      "text/plain": [
       "<Figure size 432x288 with 1 Axes>"
      ]
     },
     "metadata": {
      "needs_background": "light"
     },
     "output_type": "display_data"
    }
   ],
   "source": [
    "ShakeShack_Revenue.plot.scatter(x=\"Operating Income\",y=\"Revenue\",c='DarkBlue')"
   ]
  },
  {
   "cell_type": "code",
   "execution_count": 21,
   "id": "163bed08",
   "metadata": {},
   "outputs": [],
   "source": [
    "def date_transfer(row):\n",
    "    month,day,year=row[\"Date\"].split(\"/\")\n",
    "    return pd.to_datetime(\"{}-{}-{}\".format(year,month,day),format=\"%Y-%m-%d\")"
   ]
  },
  {
   "cell_type": "code",
   "execution_count": 22,
   "id": "a1fffe3d",
   "metadata": {},
   "outputs": [],
   "source": [
    "ShakeShack_Revenue[\"Date\"]=ShakeShack_Revenue.apply(date_transfer,axis=1)"
   ]
  },
  {
   "cell_type": "code",
   "execution_count": 23,
   "id": "1d549c37",
   "metadata": {},
   "outputs": [],
   "source": [
    "ShakeShack_Revenue.rename(columns={\"Date\":\"QUARTER\"},inplace = True)\n",
    "\n",
    "ShakeShack_Station_Volume_Revenue = ShakeShack_Station_Volume.merge(ShakeShack_Revenue,how=\"right\",on=\"QUARTER\")\n",
    "\n",
    "ShakeShack_Station_Volume_Revenue=ShakeShack_Station_Volume_Revenue[ShakeShack_Station_Volume_Revenue[\"QUARTER\"]>\"2014-12-31\"]\n",
    "\n",
    "#combination of ShakeShack revenue and traffic in New York stations closed to ShakeShack\n",
    "ShakeShack_Station_Volume_Revenue\n",
    "\n",
    "ShakeShack_Station_Volume_Revenue.to_csv(\"ShakeShack_Station_Volume_Revenue.csv\")"
   ]
  },
  {
   "cell_type": "markdown",
   "id": "c5565af6",
   "metadata": {},
   "source": [
    "## Relevant Analysis"
   ]
  },
  {
   "cell_type": "code",
   "execution_count": 4,
   "id": "98e062e9",
   "metadata": {},
   "outputs": [
    {
     "data": {
      "text/html": [
       "<div>\n",
       "<style scoped>\n",
       "    .dataframe tbody tr th:only-of-type {\n",
       "        vertical-align: middle;\n",
       "    }\n",
       "\n",
       "    .dataframe tbody tr th {\n",
       "        vertical-align: top;\n",
       "    }\n",
       "\n",
       "    .dataframe thead th {\n",
       "        text-align: right;\n",
       "    }\n",
       "</style>\n",
       "<table border=\"1\" class=\"dataframe\">\n",
       "  <thead>\n",
       "    <tr style=\"text-align: right;\">\n",
       "      <th></th>\n",
       "      <th>QUARTER</th>\n",
       "      <th>Volume</th>\n",
       "      <th>Gross Profit</th>\n",
       "      <th>Operating Income</th>\n",
       "      <th>Revenue</th>\n",
       "    </tr>\n",
       "  </thead>\n",
       "  <tbody>\n",
       "    <tr>\n",
       "      <td>0</td>\n",
       "      <td>2015-03-31</td>\n",
       "      <td>3.136650e+08</td>\n",
       "      <td>11.0</td>\n",
       "      <td>-11.0</td>\n",
       "      <td>38.0</td>\n",
       "    </tr>\n",
       "    <tr>\n",
       "      <td>1</td>\n",
       "      <td>2015-06-30</td>\n",
       "      <td>3.446551e+08</td>\n",
       "      <td>16.0</td>\n",
       "      <td>6.0</td>\n",
       "      <td>48.0</td>\n",
       "    </tr>\n",
       "    <tr>\n",
       "      <td>2</td>\n",
       "      <td>2015-09-30</td>\n",
       "      <td>3.293448e+08</td>\n",
       "      <td>18.0</td>\n",
       "      <td>8.0</td>\n",
       "      <td>53.0</td>\n",
       "    </tr>\n",
       "    <tr>\n",
       "      <td>3</td>\n",
       "      <td>2015-12-31</td>\n",
       "      <td>3.511023e+08</td>\n",
       "      <td>16.0</td>\n",
       "      <td>4.0</td>\n",
       "      <td>51.0</td>\n",
       "    </tr>\n",
       "    <tr>\n",
       "      <td>4</td>\n",
       "      <td>2016-03-31</td>\n",
       "      <td>3.290541e+08</td>\n",
       "      <td>17.0</td>\n",
       "      <td>5.0</td>\n",
       "      <td>54.0</td>\n",
       "    </tr>\n",
       "    <tr>\n",
       "      <td>5</td>\n",
       "      <td>2016-06-30</td>\n",
       "      <td>3.486094e+08</td>\n",
       "      <td>22.0</td>\n",
       "      <td>9.0</td>\n",
       "      <td>66.0</td>\n",
       "    </tr>\n",
       "    <tr>\n",
       "      <td>6</td>\n",
       "      <td>2016-09-30</td>\n",
       "      <td>3.358445e+08</td>\n",
       "      <td>23.0</td>\n",
       "      <td>9.0</td>\n",
       "      <td>75.0</td>\n",
       "    </tr>\n",
       "    <tr>\n",
       "      <td>7</td>\n",
       "      <td>2016-12-31</td>\n",
       "      <td>3.498224e+08</td>\n",
       "      <td>20.0</td>\n",
       "      <td>5.0</td>\n",
       "      <td>73.0</td>\n",
       "    </tr>\n",
       "    <tr>\n",
       "      <td>8</td>\n",
       "      <td>2017-03-31</td>\n",
       "      <td>3.271664e+08</td>\n",
       "      <td>21.0</td>\n",
       "      <td>6.0</td>\n",
       "      <td>77.0</td>\n",
       "    </tr>\n",
       "    <tr>\n",
       "      <td>9</td>\n",
       "      <td>2017-06-30</td>\n",
       "      <td>3.441766e+08</td>\n",
       "      <td>29.0</td>\n",
       "      <td>12.0</td>\n",
       "      <td>91.0</td>\n",
       "    </tr>\n",
       "    <tr>\n",
       "      <td>10</td>\n",
       "      <td>2017-09-30</td>\n",
       "      <td>3.289566e+08</td>\n",
       "      <td>28.0</td>\n",
       "      <td>11.0</td>\n",
       "      <td>95.0</td>\n",
       "    </tr>\n",
       "    <tr>\n",
       "      <td>11</td>\n",
       "      <td>2017-12-31</td>\n",
       "      <td>3.423930e+08</td>\n",
       "      <td>27.0</td>\n",
       "      <td>6.0</td>\n",
       "      <td>96.0</td>\n",
       "    </tr>\n",
       "    <tr>\n",
       "      <td>12</td>\n",
       "      <td>2018-03-31</td>\n",
       "      <td>3.187637e+08</td>\n",
       "      <td>27.0</td>\n",
       "      <td>7.0</td>\n",
       "      <td>99.0</td>\n",
       "    </tr>\n",
       "    <tr>\n",
       "      <td>13</td>\n",
       "      <td>2018-06-30</td>\n",
       "      <td>3.454572e+08</td>\n",
       "      <td>35.0</td>\n",
       "      <td>13.0</td>\n",
       "      <td>116.0</td>\n",
       "    </tr>\n",
       "    <tr>\n",
       "      <td>14</td>\n",
       "      <td>2018-09-30</td>\n",
       "      <td>3.336477e+08</td>\n",
       "      <td>34.0</td>\n",
       "      <td>9.0</td>\n",
       "      <td>120.0</td>\n",
       "    </tr>\n",
       "    <tr>\n",
       "      <td>15</td>\n",
       "      <td>2018-12-31</td>\n",
       "      <td>3.592657e+08</td>\n",
       "      <td>31.0</td>\n",
       "      <td>3.0</td>\n",
       "      <td>124.0</td>\n",
       "    </tr>\n",
       "    <tr>\n",
       "      <td>16</td>\n",
       "      <td>2019-03-31</td>\n",
       "      <td>3.382669e+08</td>\n",
       "      <td>31.0</td>\n",
       "      <td>5.0</td>\n",
       "      <td>133.0</td>\n",
       "    </tr>\n",
       "    <tr>\n",
       "      <td>17</td>\n",
       "      <td>2019-06-30</td>\n",
       "      <td>3.635176e+08</td>\n",
       "      <td>41.0</td>\n",
       "      <td>12.0</td>\n",
       "      <td>153.0</td>\n",
       "    </tr>\n",
       "    <tr>\n",
       "      <td>18</td>\n",
       "      <td>2019-09-30</td>\n",
       "      <td>3.478398e+08</td>\n",
       "      <td>41.0</td>\n",
       "      <td>8.0</td>\n",
       "      <td>158.0</td>\n",
       "    </tr>\n",
       "    <tr>\n",
       "      <td>19</td>\n",
       "      <td>2019-12-31</td>\n",
       "      <td>3.633461e+08</td>\n",
       "      <td>35.0</td>\n",
       "      <td>0.0</td>\n",
       "      <td>151.0</td>\n",
       "    </tr>\n",
       "    <tr>\n",
       "      <td>20</td>\n",
       "      <td>2020-03-31</td>\n",
       "      <td>2.806313e+08</td>\n",
       "      <td>32.0</td>\n",
       "      <td>-1.0</td>\n",
       "      <td>143.0</td>\n",
       "    </tr>\n",
       "    <tr>\n",
       "      <td>21</td>\n",
       "      <td>2020-06-30</td>\n",
       "      <td>3.980815e+07</td>\n",
       "      <td>4.0</td>\n",
       "      <td>-24.0</td>\n",
       "      <td>92.0</td>\n",
       "    </tr>\n",
       "    <tr>\n",
       "      <td>22</td>\n",
       "      <td>2020-09-30</td>\n",
       "      <td>8.384108e+07</td>\n",
       "      <td>23.0</td>\n",
       "      <td>-7.0</td>\n",
       "      <td>130.0</td>\n",
       "    </tr>\n",
       "    <tr>\n",
       "      <td>23</td>\n",
       "      <td>2020-12-31</td>\n",
       "      <td>9.982627e+07</td>\n",
       "      <td>29.0</td>\n",
       "      <td>-12.0</td>\n",
       "      <td>158.0</td>\n",
       "    </tr>\n",
       "    <tr>\n",
       "      <td>24</td>\n",
       "      <td>2021-03-31</td>\n",
       "      <td>9.173770e+07</td>\n",
       "      <td>27.0</td>\n",
       "      <td>-10.0</td>\n",
       "      <td>155.0</td>\n",
       "    </tr>\n",
       "    <tr>\n",
       "      <td>25</td>\n",
       "      <td>2021-06-30</td>\n",
       "      <td>1.179859e+08</td>\n",
       "      <td>41.0</td>\n",
       "      <td>3.0</td>\n",
       "      <td>187.0</td>\n",
       "    </tr>\n",
       "  </tbody>\n",
       "</table>\n",
       "</div>"
      ],
      "text/plain": [
       "      QUARTER        Volume  Gross Profit  Operating Income  Revenue\n",
       "0  2015-03-31  3.136650e+08          11.0             -11.0     38.0\n",
       "1  2015-06-30  3.446551e+08          16.0               6.0     48.0\n",
       "2  2015-09-30  3.293448e+08          18.0               8.0     53.0\n",
       "3  2015-12-31  3.511023e+08          16.0               4.0     51.0\n",
       "4  2016-03-31  3.290541e+08          17.0               5.0     54.0\n",
       "5  2016-06-30  3.486094e+08          22.0               9.0     66.0\n",
       "6  2016-09-30  3.358445e+08          23.0               9.0     75.0\n",
       "7  2016-12-31  3.498224e+08          20.0               5.0     73.0\n",
       "8  2017-03-31  3.271664e+08          21.0               6.0     77.0\n",
       "9  2017-06-30  3.441766e+08          29.0              12.0     91.0\n",
       "10 2017-09-30  3.289566e+08          28.0              11.0     95.0\n",
       "11 2017-12-31  3.423930e+08          27.0               6.0     96.0\n",
       "12 2018-03-31  3.187637e+08          27.0               7.0     99.0\n",
       "13 2018-06-30  3.454572e+08          35.0              13.0    116.0\n",
       "14 2018-09-30  3.336477e+08          34.0               9.0    120.0\n",
       "15 2018-12-31  3.592657e+08          31.0               3.0    124.0\n",
       "16 2019-03-31  3.382669e+08          31.0               5.0    133.0\n",
       "17 2019-06-30  3.635176e+08          41.0              12.0    153.0\n",
       "18 2019-09-30  3.478398e+08          41.0               8.0    158.0\n",
       "19 2019-12-31  3.633461e+08          35.0               0.0    151.0\n",
       "20 2020-03-31  2.806313e+08          32.0              -1.0    143.0\n",
       "21 2020-06-30  3.980815e+07           4.0             -24.0     92.0\n",
       "22 2020-09-30  8.384108e+07          23.0              -7.0    130.0\n",
       "23 2020-12-31  9.982627e+07          29.0             -12.0    158.0\n",
       "24 2021-03-31  9.173770e+07          27.0             -10.0    155.0\n",
       "25 2021-06-30  1.179859e+08          41.0               3.0    187.0"
      ]
     },
     "execution_count": 4,
     "metadata": {},
     "output_type": "execute_result"
    }
   ],
   "source": [
    "import pandas as pd\n",
    "ShakeShack_Station_Volume_Revenue=pd.read_csv(\"ShakeShack_Station_Volume_Revenue.csv\",index_col=0)\n",
    "\n",
    "ShakeShack_Station_Volume_Revenue[\"QUARTER\"]=pd.to_datetime(ShakeShack_Station_Volume_Revenue[\"QUARTER\"])\n",
    "\n",
    "ShakeShack_Station_Volume_Revenue"
   ]
  },
  {
   "cell_type": "markdown",
   "id": "bd4adc80",
   "metadata": {},
   "source": [
    "## Revenue and Traffic Plot"
   ]
  },
  {
   "cell_type": "code",
   "execution_count": 2,
   "id": "76e83682",
   "metadata": {
    "collapsed": true
   },
   "outputs": [
    {
     "ename": "NameError",
     "evalue": "name 'ShakeShack_Station_Volume_Revenue' is not defined",
     "output_type": "error",
     "traceback": [
      "\u001b[1;31m---------------------------------------------------------------------------\u001b[0m",
      "\u001b[1;31mNameError\u001b[0m                                 Traceback (most recent call last)",
      "\u001b[1;32m<ipython-input-2-4a6674a8f26c>\u001b[0m in \u001b[0;36m<module>\u001b[1;34m\u001b[0m\n\u001b[0;32m      1\u001b[0m \u001b[1;31m#Traffic and revenue scatter\u001b[0m\u001b[1;33m\u001b[0m\u001b[1;33m\u001b[0m\u001b[1;33m\u001b[0m\u001b[0m\n\u001b[1;32m----> 2\u001b[1;33m \u001b[0mShakeShack_Station_Volume_Revenue\u001b[0m\u001b[1;33m.\u001b[0m\u001b[0mplot\u001b[0m\u001b[1;33m.\u001b[0m\u001b[0mscatter\u001b[0m\u001b[1;33m(\u001b[0m\u001b[0mx\u001b[0m\u001b[1;33m=\u001b[0m\u001b[1;34m\"Volume\"\u001b[0m\u001b[1;33m,\u001b[0m\u001b[0my\u001b[0m\u001b[1;33m=\u001b[0m\u001b[1;34m\"Revenue\"\u001b[0m\u001b[1;33m)\u001b[0m\u001b[1;33m\u001b[0m\u001b[1;33m\u001b[0m\u001b[0m\n\u001b[0m",
      "\u001b[1;31mNameError\u001b[0m: name 'ShakeShack_Station_Volume_Revenue' is not defined"
     ]
    }
   ],
   "source": [
    "#Traffic and revenue scatter\n",
    "ShakeShack_Station_Volume_Revenue.plot.scatter(x=\"Volume\",y=\"Revenue\")"
   ]
  },
  {
   "cell_type": "code",
   "execution_count": 26,
   "id": "28697feb",
   "metadata": {},
   "outputs": [
    {
     "data": {
      "text/plain": [
       "<matplotlib.axes._subplots.AxesSubplot at 0x1edf676b388>"
      ]
     },
     "execution_count": 26,
     "metadata": {},
     "output_type": "execute_result"
    },
    {
     "data": {
      "image/png": "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\n",
      "text/plain": [
       "<Figure size 432x288 with 1 Axes>"
      ]
     },
     "metadata": {
      "needs_background": "light"
     },
     "output_type": "display_data"
    }
   ],
   "source": [
    "#Traffic and revenue scatter before 2020Q1\n",
    "ShakeShack_Station_Volume_Revenue[ShakeShack_Station_Volume_Revenue[\"QUARTER\"]<\"2020-1-1\"].plot.scatter(x=\"Volume\",y=\"Revenue\")"
   ]
  },
  {
   "cell_type": "code",
   "execution_count": 27,
   "id": "f688c639",
   "metadata": {
    "scrolled": true
   },
   "outputs": [
    {
     "data": {
      "text/plain": [
       "<matplotlib.axes._subplots.AxesSubplot at 0x1ed5205a2c8>"
      ]
     },
     "execution_count": 27,
     "metadata": {},
     "output_type": "execute_result"
    },
    {
     "data": {
      "image/png": "iVBORw0KGgoAAAANSUhEUgAAAYUAAAEGCAYAAACKB4k+AAAABHNCSVQICAgIfAhkiAAAAAlwSFlzAAALEgAACxIB0t1+/AAAADh0RVh0U29mdHdhcmUAbWF0cGxvdGxpYiB2ZXJzaW9uMy4yLjIsIGh0dHA6Ly9tYXRwbG90bGliLm9yZy+WH4yJAAAWJ0lEQVR4nO3df7DddX3n8efrkpjEDWBMgtZcMKiIghtTjaxbbLG6XahjgzV0G1ZX6rIydVln7a6SsnXU/cGMpp3tdsdhtqxlUKcLSxsUuuPP0iqdFsRoQwQUzZoiF1wJMSrRcHvDfe8f55svJ5d7yUnIOecm5/mYyeScz/d7znndc5P7ut8f5/NNVSFJEsDYsANIkuYPS0GS1LIUJEktS0GS1LIUJEmtBcMO8HSsWLGiVq9ePewYknRM+epXv/pIVa2cbdkxXQqrV69m69atw44hSceUJPfPtczdR5KklqUgSWpZCpKklqUgSWpZCpKklqUgSceY3XsnueuBH7J77+RRf+5j+pRUSRo1N297kE1btrNwbIyp6Wk2b1jD+rWrjtrzu6UgSceI3Xsn2bRlO49NTfPo5H4em5rmii3bj+oWg6UgSceIiT37WDh28I/thWNjTOzZd9Rew1KQpGPE+LIlTE1PHzQ2NT3N+LIlR+01LAVJOkYsX7qIzRvWsHjhGCcuWsDihWNs3rCG5UsXHbXX8ECzJB1D1q9dxbkvWsHEnn2ML1tyVAsBLAVJOuYsX7roqJfBAe4+kiS1LAVJUstSkCS1LAVJUstSkCS1LAVJUstSkCS1+lYKSa5N8nCSu7vG1ia5I8m2JFuTnNO17MokO5Lcl+T8fuWSJM2tn1sK1wEXzBjbDPzHqloLvL+5T5KzgI3A2c1jrk5yQh+zSZJm0bdSqKrbgB/MHAZOam6fDDzU3L4QuKGqJqtqJ7ADOAdJ0kANepqLdwOfS/J7dArp55rxVcAdXetNNGNPkuQy4DKA0047rX9JJWkEDfpA8zuB36qqU4HfAv6oGc8s69ZsT1BV11TVuqpat3Llyj7FlKTRNOhSuAS4qbn9Jzyxi2gCOLVrvXGe2LUkSRqQQZfCQ8B5ze3XAd9ubt8CbEyyKMnpwBnAnQPOJkkjr2/HFJJcD7wWWJFkAvgA8A7gD5IsAB6jOTZQVfckuRG4F9gPXF5Vj/crmyRpdn0rhaq6eI5Fr5xj/auAq/qVR5J0aH6iWZLUshQkSS1LQZLUshQkSS1LQZLUshQkSS1LQZLUshQkSS1LQZLUshQkSS1LQZLUshQkSS1LQZLUshQkSS1LQZLUshQkSS1LQZLUshQkSS1LQZLUshQkSS1LQZLUshQkSS1LQZLUshQkSS1LQZLUshQkSS1LQZLUshQkSS1LQZLUshQkSS1LQZLUshQkSa2+lUKSa5M8nOTuGePvSnJfknuSbO4avzLJjmbZ+f3KJUma24I+Pvd1wEeAjx8YSPKLwIXAmqqaTHJKM34WsBE4G3ge8OdJXlxVj/cxnyRphr5tKVTVbcAPZgy/E/hQVU026zzcjF8I3FBVk1W1E9gBnNOvbJKk2Q36mMKLgZ9P8uUkX0ryqmZ8FfBA13oTzdiTJLksydYkW3ft2tXnuJI0WgZdCguAZcCrgfcCNyYJkFnWrdmeoKquqap1VbVu5cqV/UsqSSNo0KUwAdxUHXcC08CKZvzUrvXGgYcGnE3SPLJ77yR3PfBDdu+dHHaUkdLPA82z+RTwOuCLSV4MPAN4BLgF+F9J/iudA81nAHcOOJukeeLmbQ+yact2Fo6NMTU9zeYNa1i/dtY9yjrK+nlK6vXA7cCZSSaSXApcC7ygOU31BuCSZqvhHuBG4F7gs8DlnnkkjabdeyfZtGU7j01N8+jkfh6bmuaKLdvdYhiQvm0pVNXFcyx66xzrXwVc1a88ko4NE3v2sXBsjMeYbscWjo0xsWcfy5cuGmKy0eAnmiXNK+PLljA1PX3Q2NT0NOPLlgwp0WixFCTNK8uXLmLzhjUsXjjGiYsWsHjhGJs3rHErYUAGfaBZ0jFk995JJvbsY3zZkoH+UF6/dhXnvmjFUF571FkKkmY17DOAli9dZBkMgbuPJD2JZwCNLktB0pMcOAOo24EzgHR8sxQkPYlnAI0uS0HSk3gG0OjyQLOkWXkG0GiyFCTNyTOARo+7jyRJLUtBktSyFCRJLUtBktSyFCRJLUtBktSyFCRJLUtBktSyFCRJrZ5KIclzkvxRks80989Kcml/o0mSBq3XLYXrgM8Bz2vufwt4dz8CSZKGp9dSWFFVNwLTAFW1H3i8b6kkSUPRayn8JMlyoACSvBr4Ud9SSZKGotdZUv8dcAvwwiR/DawELupbKknSUPRUClX1tSTnAWcCAe6rqqm+JpMkDVxPpZDkbTOGXpGEqvp4HzJJkoak191Hr+q6vRh4PfA1wFKQpONIr7uP3tV9P8nJwCf6kkiSNDRH+onmnwJnHM0gkqTh6/WYwp/RnI5Kp0jOAm7sVyhJ0nD0ekzh97pu7wfur6qJPuSRJA1Rr8cUvtTvIJKk4et1Qrw3J/l2kh8l+XGSR5P8uN/hJEmD1euB5s3A+qo6uapOqqoTq+qkp3pAkmuTPJzk7lmWvSdJJVnRNXZlkh1J7kty/uF9GZKko6HXUvh+VX3jMJ/7OuCCmYNJTgV+Cfhu19hZwEbg7OYxVyc54TBfT5L0NPV6oHlrkv8NfAqYPDBYVTfN9YCqui3J6lkW/T5wBXBz19iFwA1VNQnsTLIDOAe4vcd8kqSjoNdSOInOZxP+addYAXOWwmySrAcerKq7knQvWgXc0XV/ohmb7TkuAy4DOO200w7n5SVJh9Dr2Udvf7ovlOSZwO9wcLG0i2d72TmyXANcA7Bu3bpZ15EkHZlezz56cZJbDxw0TrImyfsO87VeCJwO3JXk74Bx4GtJnktny+DUrnXHgYcO8/klSU9Trwea/ydwJTAFUFXb6RwY7llVfb2qTqmq1VW1mk4RvKKq/h+dazVsTLIoyel0ptC483CeX5L09PVaCs+sqpk/pPc/1QOSXE/nQPGZSSaSXDrXulV1D51pM+4FPgtcXlVe7lOSBqzXA82PJHkhT1yO8yLge0/1gKq6+BDLV8+4fxVwVY95JEl90GspXE7n4O5LkjwI7ATe0rdUkqSh6LUU7q+qf5LkHwBjVfVoP0NJkoaj12MKO5NcA7wa2NvHPJKkIeq1FM4E/pzObqSdST6S5DX9iyVJGoaeSqGq9lXVjVX1ZuBn6XzC2em0Jek40/PlOJOcl+Rq4GvAYuCf9S2VJGkoer0c505gG53PEry3qn7S11SSpKHo9eyjl1eVF9WRpONcr7uPnnsU5j6SJM1zA5v7SJI0//Vt7iNJ0rGn11I47LmPJEnHHuc+kua53Xsnmdizj/FlS1i+dNGw4+g41+uV174DtHMfAfuAXwfu72M2aeTdvO1BNm3ZzsKxMaamp9m8YQ3r1856pVrpqHjK3UdJTkpyZTOtxS/RuU7zJcAO/PCa1Fe7906yact2Hpua5tHJ/Tw2Nc0VW7aze+/ksKPpOHaoLYVPAHvoXCznHcAVwDOAN1XVtj5nk0baxJ59LBwb4zGm27GFY2NM7NnnbiT1zaFK4QVV9Q8BknwUeAQ4zamzpf4bX7aEqenpg8ampqcZX7ZkSIk0Cg519tHUgRvN5TF3WgjSYCxfuojNG9aweOEYJy5awOKFY2zesMatBPXVobYUXp7kwPQWAZY09wNUVZ3U13TSiFu/dhXnvmiFZx9pYJ6yFKrqhEEFkTS75UsXWQYamJ6nzpYkHf8sBUlSy1KQJLUsBUlSy1KQJLUsBUlSy1KQJLUsBUlSy1KQJLUsBUlSy1KQJLUsBUlSq2+lkOTaJA8nubtr7HeTfDPJ9iSfTPKsrmVXJtmR5L4k5/crlyRpbv3cUrgOuGDG2BeAl1XVGuBbwJUASc4CNgJnN4+5OokztErSgPWtFKrqNuAHM8Y+X1X7m7t3AOPN7QuBG6pqsqp20rkG9Dn9yiZJmt0wjyn8S+Azze1VwANdyyaaMUnSAA2lFJL8DrAf+OMDQ7OsVnM89rIkW5Ns3bVrV78iStJIGngpJLkEeCPwlqo68IN/Aji1a7Vx4KHZHl9V11TVuqpat3Llyv6GlaQRM9BSSHIBsAlYX1U/7Vp0C7AxyaIkpwNnAHcOMpsk6RDXaH46klwPvBZYkWQC+ACds40WAV9IAnBHVf1mVd2T5EbgXjq7lS6vqsf7lU2SNLs8sQfn2LNu3braunXrsGNI0jElyVerat1sy/xEsySpZSlIklqWgiSpZSlIklqWgiSpZSlIklqWgiSpZSlIklqWgiSpZSlIklqWgiSpZSlIklqWgiSpZSlIklqWgiSpZSlIklqWgiSpZSlIklqWgiSpZSlIklqWgiSpZSlIklqWgiSpZSlIklqWgiSpZSlIklqWgiSpZSlIklqWgiSpZSlIklqWgiSpZSlIklqWgiSp1bdSSHJtkoeT3N019uwkX0jy7ebvZV3LrkyyI8l9Sc7vVy5J0tz6uaVwHXDBjLHfBm6tqjOAW5v7JDkL2Aic3Tzm6iQn9DGbJGkWfSuFqroN+MGM4QuBjzW3Pwa8qWv8hqqarKqdwA7gnH5lkyTNbtDHFJ5TVd8DaP4+pRlfBTzQtd5EM/YkSS5LsjXJ1l27dvU1rCSNmvlyoDmzjNVsK1bVNVW1rqrWrVy5ss+xJGm0DLoUvp/kZwCavx9uxieAU7vWGwceGnA2SRp5gy6FW4BLmtuXADd3jW9MsijJ6cAZwJ0DziZJI29Bv544yfXAa4EVSSaADwAfAm5McinwXeDXAKrqniQ3AvcC+4HLq+rxfmWTJM2ub6VQVRfPsej1c6x/FXBVv/JIkg5tvhxoliTNA5aCJKllKUiSWpaCJKllKUiSWpaCJKllKUiSWpaCJKk1sqWwe+8kdz3wQ3bvnRx2FEmaN/r2ieb57OZtD7Jpy3YWjo0xNT3N5g1rWL921pm6JWmkjNyWwu69k2zasp3HpqZ5dHI/j01Nc8WW7W4xSBIjWAoTe/axcOzgL3vh2BgTe/YNKZEkzR8jVwrjy5YwNT190NjU9DTjy5YMKZEkzR8jVwrLly5i84Y1LF44xomLFrB44RibN6xh+dJFw44mSUM3kgea169dxbkvWsHEnn2ML1tiIUhSYyRLATpbDJaBJB1s5HYfSZLmZilIklqWgiSpZSlIklqWgiSplaoadoYjlmQXcP/TeIoVwCNHKc7RZrYjY7YjY7Yjc6xme35VrZxtwTFdCk9Xkq1VtW7YOWZjtiNjtiNjtiNzPGZz95EkqWUpSJJao14K1ww7wFMw25Ex25Ex25E57rKN9DEFSdLBRn1LQZLUxVKQJLVGohSSXJDkviQ7kvz2U6z3qiSPJ7lovmRL8tokP0qyrfnz/vmSrSvftiT3JPnSfMmW5L1d79ndzff12fMk28lJ/izJXc379vZB5Oox27Ikn0yyPcmdSV42oFzXJnk4yd1zLE+S/97k3p7kFYPI1WO2lyS5PclkkvcMKleP2d7SvF/bk/xNkpcf8kmr6rj+A5wA/F/gBcAzgLuAs+ZY7y+ATwMXzZdswGuB/zMf3zfgWcC9wGnN/VPmS7YZ6/8K8BfzJRvwH4APN7dXAj8AnjFPsv0u8IHm9kuAWwf0vv0C8Arg7jmWvwH4DBDg1cCXB5Grx2ynAK8CrgLeM6hcPWb7OWBZc/uXe3nfRmFL4RxgR1V9p6r+HrgBuHCW9d4FbAEenofZhqGXbP8cuKmqvgtQVYN67w73fbsYuH4gyXrLVsCJSQIspVMK++dJtrOAWwGq6pvA6iTP6XewqrqNzvswlwuBj1fHHcCzkvxMv3P1kq2qHq6qrwBTg8gz47UPle1vqmpPc/cOYPxQzzkKpbAKeKDr/kQz1kqyCvhV4H8MMBf0kK3xj5tdDZ9JcvZgovWU7cXAsiRfTPLVJG+bR9kASPJM4AI6hT8IvWT7CPBS4CHg68C/rapp+q+XbHcBbwZIcg7wfHr4QTIAPX/PNadL6WxtPaVRuPJaZhmbeR7ufwM2VdXjnV/eBqaXbF+jM0/J3iRvAD4FnNH3ZL1lWwC8Eng9sAS4PckdVfWteZDtgF8B/rqqnuq30KOpl2znA9uA1wEvBL6Q5K+q6sfzINuHgD9Iso1OYf0tg9mKOZTD+Z5rhiS/SKcUXnOodUehFCaAU7vuj9P5Da3bOuCGphBWAG9Isr+qPjXsbN0/KKrq00muTrKiqvo9CVcv79sE8EhV/QT4SZLbgJcD/S6FXrIdsJHB7TqC3rK9HfhQdXb07kiyk87++zuHna359/Z26BzcBXY2f4btcL7n6pJkDfBR4Jeraveh1h+F3UdfAc5IcnqSZ9D5IXFL9wpVdXpVra6q1cCfAv96AIXQU7Ykz23+cx7YnB8DDvmNHUQ24Gbg55MsaHbT/CPgG/MkG0lOBs5rcg5KL9m+S2frimZ//ZnAd+ZDtiTPapYB/CvgtgFswfTiFuBtzVlIrwZ+VFXfG3ao+S7JacBNwL/odQv+uN9SqKr9Sf4N8Dk6Z19cW1X3JPnNZvmgjyMcbraLgHcm2Q/sAzY2v2EOPVtVfSPJZ4HtwDTw0aqa9dS4QWdrVv1V4PPNlsxA9JjtPwPXJfk6nd0imwaw5ddrtpcCH0/yOJ0zyy7tdy6AJNfTOdNuRZIJ4APAwq5cn6ZzBtIO4Kc0WzPzIVuS5wJbgZOA6STvpnNWV9/LtIf37f3AcuDq5nfL/XWImVOd5kKS1BqF3UeSpB5ZCpKklqUgSWpZCpKklqUgSceIQ02AN2Pd05L8ZZK/bSbEe0Mvr2EpSF2aKTvOnzH27iRXz7H+3yVZMZh0EtfRmbalF+8Dbqyqn6XzmZRZ/w3PZClIB7uezn+gboP+VLQ0q9kmwEvywiSfbeYf+6skLzmwOp3PTgCcTI+fALcUpIP9KfDGJIsAkqwGngeMJ/l6Otdm+PDMByVZ3b1Jn+Q9ST7Y3P5ikt9PcluSb6Rz3Y6bknw7yX/pesxb07mGwbYkf5jkhP5+qTpOXAO8q6peCbyHJ7YIPgi8tflQ26fpzAR9SJaC1KWZG+ZOnthE30jnE8AfpjOB3VrgVUnedJhP/fdV9Qt0ZuK9GbgceBnwG0mWJ3kp8OvAuVW1FngceMvT/Xp0fEuylM41E/6kmcTwD4EDU4pfDFxXVeN0Pg3+iSSH/Jl/3E9zIR2BA7uQbm7+/iTwxaraBZDkj+lc3ORw5sc6MMfQ14F7Dszbk+Q7dCZ6ew2dGWe/0kxHsITBXttDx6Yx4IfNLxIzXUrzy01V3Z5kMZ0JP5/y35VbCtKTfQp4fTqXfFxC5xoDh7Kfg/8/LZ6xfLL5e7rr9oH7C+jMgfSxqlrb/Dmzqj54JOE1Opr5lXYm+TVoL1t64JKb3RMvvpTOv8ldh3pOS0Gaoar2Al8ErqWz1fBl4LwkK5r9/BcDM69H/X3glGZX0CLgjYf5srcCFyU5BSDJs5M8/2l8GToONRPg3Q6cmWQiyaV0djNemuQu4B6euJrevwfe0YxfD/xGL5NpuvtImt31dKYc3lhV30tyJfCXdH6j/3RVHTQdd1VNJflPdApkJ/DNw3mxqro3yfuAzzf7fafoHHe4/+l/KTpeVNXFcyx60mmqVXUvcO7hvoazpEqSWu4+kiS1LAVJUstSkCS1LAVJUstSkCS1LAVJUstSkCS1/j+U6YCxE0b+pgAAAABJRU5ErkJggg==\n",
      "text/plain": [
       "<Figure size 432x288 with 1 Axes>"
      ]
     },
     "metadata": {
      "needs_background": "light"
     },
     "output_type": "display_data"
    }
   ],
   "source": [
    "#Traffic and revenue scatter after 2020Q2\n",
    "ShakeShack_Station_Volume_Revenue[ShakeShack_Station_Volume_Revenue[\"QUARTER\"]>\"2020-4-1\"].plot.scatter(x=\"Volume\",y=\"Revenue\")"
   ]
  },
  {
   "cell_type": "code",
   "execution_count": 5,
   "id": "ca1dfd4a",
   "metadata": {},
   "outputs": [],
   "source": [
    "def pandemic(row):\n",
    "    if row[\"QUARTER\"]<pd.to_datetime(\"2020-03-31\"):\n",
    "        return 0\n",
    "    elif row[\"QUARTER\"]>pd.to_datetime(\"2020-03-31\"):\n",
    "        return 1\n",
    "    else:\n",
    "        return 2\n",
    "\n",
    "ShakeShack_Station_Volume_Revenue[\"Pandemic\"]=ShakeShack_Station_Volume_Revenue.apply(pandemic,axis=1)\n",
    "\n",
    "\n",
    "ShakeShack_Station_Volume_Revenue=ShakeShack_Station_Volume_Revenue[ShakeShack_Station_Volume_Revenue[\"Pandemic\"] !=2 ]\n",
    "#traindata = ShakeShack_Station_Volume_Revenue[ShakeShack_Station_Volume_Revenue[\"QUARTER\"]<\"2021-04-01\"][[\"Volume\",\"Revenue\",\"Pandemic\"]]\n"
   ]
  },
  {
   "cell_type": "markdown",
   "id": "50578b04",
   "metadata": {},
   "source": [
    "## Hold-One-Out Testing (Out of Sample Testing)"
   ]
  },
  {
   "cell_type": "code",
   "execution_count": 9,
   "id": "1ac4acfb",
   "metadata": {
    "scrolled": true
   },
   "outputs": [
    {
     "name": "stdout",
     "output_type": "stream",
     "text": [
      "MSE is 907.50\n",
      "R2 score is 0.55 \n"
     ]
    }
   ],
   "source": [
    "from sklearn.linear_model import LinearRegression\n",
    "from sklearn.metrics import r2_score\n",
    "from sklearn.model_selection import train_test_split\n",
    "from sklearn.preprocessing import normalize\n",
    "from sklearn import preprocessing\n",
    "from sklearn.metrics import mean_squared_error\n",
    "\n",
    "model = LinearRegression()\n",
    "\n",
    "\n",
    "#dataX = preprocessing.scale(ShakeShack_Station_Volume_Revenue[[\"Volume\",\"Pandemic\"]].values)\n",
    "dataX = ShakeShack_Station_Volume_Revenue[[\"Volume\",\"Pandemic\"]].values\n",
    "\n",
    "dataY = ShakeShack_Station_Volume_Revenue[\"Revenue\"].values\n",
    "\n",
    "X_train, X_test, y_train, y_test = train_test_split(dataX, dataY,random_state=0, test_size=0.3)\n",
    "model.fit(X_train,y_train)\n",
    "\n",
    "data_pred = model.predict(X_test)\n",
    "y_train_pred = model.predict(X_train)\n",
    "\n",
    "print(\"MSE is %.2f\"%(mean_squared_error(y_test,data_pred)))\n",
    "print(\"R2 score is %.2f \" %(r2_score(y_test, data_pred)))\n",
    "#model.coef_\n",
    "\n",
    "\n"
   ]
  },
  {
   "cell_type": "code",
   "execution_count": 18,
   "id": "38cfa7f1",
   "metadata": {},
   "outputs": [
    {
     "name": "stdout",
     "output_type": "stream",
     "text": [
      "y_test:[187.], data_predict:[184.47988613]\n"
     ]
    }
   ],
   "source": [
    "traindata = ShakeShack_Station_Volume_Revenue[ShakeShack_Station_Volume_Revenue[\"QUARTER\"]<\"2021-04-01\"][[\"Volume\",\"Revenue\",\"Pandemic\"]]\n",
    "X_train = traindata[[\"Volume\",\"Pandemic\"]].values\n",
    "y_train = traindata[\"Revenue\"].values\n",
    "\n",
    "model2 = LinearRegression()\n",
    "\n",
    "model2.fit(X_train,y_train)\n",
    "X_test = ShakeShack_Station_Volume_Revenue[ShakeShack_Station_Volume_Revenue[\"QUARTER\"]>\"2021-04-01\"][[\"Volume\",\"Pandemic\"]].values\n",
    "\n",
    "data_pred = model2.predict(X_test)\n",
    "y_test  =ShakeShack_Station_Volume_Revenue[ShakeShack_Station_Volume_Revenue[\"QUARTER\"]>\"2021-04-01\"][\"Revenue\"].values\n",
    "print(\"y_test:{}, data_predict:{}\".format(y_test, data_pred))\n"
   ]
  },
  {
   "cell_type": "code",
   "execution_count": null,
   "id": "f0eaa3d7",
   "metadata": {},
   "outputs": [],
   "source": []
  }
 ],
 "metadata": {
  "kernelspec": {
   "display_name": "Python 3",
   "language": "python",
   "name": "python3"
  },
  "language_info": {
   "codemirror_mode": {
    "name": "ipython",
    "version": 3
   },
   "file_extension": ".py",
   "mimetype": "text/x-python",
   "name": "python",
   "nbconvert_exporter": "python",
   "pygments_lexer": "ipython3",
   "version": "3.8.8"
  }
 },
 "nbformat": 4,
 "nbformat_minor": 5
}
